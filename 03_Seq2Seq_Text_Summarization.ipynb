{
 "cells": [
  {
   "cell_type": "markdown",
   "metadata": {},
   "source": [
    "### TextRank Text Summarization"
   ]
  },
  {
   "cell_type": "markdown",
   "metadata": {},
   "source": [
    "---"
   ]
  },
  {
   "cell_type": "markdown",
   "metadata": {},
   "source": [
    "<b>Goal</b>: Explore TextRank algorithm for text summary and use it with keras tokenizer"
   ]
  },
  {
   "cell_type": "code",
   "execution_count": 1,
   "metadata": {},
   "outputs": [],
   "source": [
    "text = '''\n",
    "Głównym bohaterem jest Gabriel Laymann, nowicjusz klasztoru dominikanów w Mainz. Akcja toczy się w roku 1602 roku gdzie wraz z resztą braci bierze udział w polowaniu na czarownice. Jednak niespodziewane spotkanie swojej przyrodniej siostry Anny Held, osądzanej o wykonywanie czarów, powoduje że Laymann odrzuca regułę klasztoru. Podstępnie zakrada się do biblioteki gdzie studiuje zakazane księgi. Zostaje przyłapany przez swojego nauczyciela brata Jakoba i uwięziony w lochu.\n",
    "\n",
    "Główny bohater spotyka tam starszego człowieka Lugaida Vandroiy, który przedstawia mu się jako druid (Reach Out For The Light). Spotkany człowiek opowiada Gabrielowi o innym zagrożonym wymiarze – Avantasii. W zamian za pomoc w uratowaniu Avantasii druid obiecuje uratowanie Anny. Razem udaje im się uciec z lochów (Breaking Away) po czym Vandroiy zabiera Gabriela do kamieniołomu, gdzie ukryty jest portal łączący oba światy. Vandroiy używa go by przenieść Gabriela do równoległego świata.\n",
    "\n",
    "W tym czasie biskup Mainz Johann Adam von Bicken, brat Jakob oraz rządca Falk von Kronberg są w drodze do Rzymu gdzie zamierzają spotkać się z papieżem Clemensem VIII (Glory of Rome). Niosą ze sobą także księgę odkrytą przez Gabriela. Wedle starożytnego zapisu wynika że księga jest ostatnią siódmą częścią pieczęci, która w całości daje właścicielowi absolutną wiedzę gdy tylko dostanie się on do wieży wyznaczającej środek Avantasii.\n",
    "\n",
    "Gdy Gabriel dostaje się do równoległego świata jest powitany przez dwóch jego mieszkańców elfa Elderana oraz krasnoluda Regrina (Inside). Opowiadają mu o toczącej się wojnie przeciwko siłom zła oraz o planach papieża (Sign Of The Cross). Jeżeli papież użyje pieczęci połączenie między Avantasią a światem ludzi zostanie zamknięte, a oba światy dotkną straszliwe kataklizmy. Gabriel przybywa w momencie gdy Clemens VIII rozmawia z tajemniczym głosem dochodzącym z wieży. Zręcznemu Gabrielowi udaje się skraść pieczęć papieżowi po czym zanosi ją do miasta elfów (The Tower). Zdarzenie to kończy pierwszy album.\n",
    "\n",
    "Jednak Gabriel nie jest usatysfakcjonowany. Chce dowiedzieć się więcej o świecie Avantasii dlatego Elderane wysyła nowicjusza do drzewa poznania. Tam Gabriel podczas objawienia widzi brata Jakoba który znosił okropny ból w jeziorze ognia (The Final Sacrifice). Elderane opowiada Gabrielowi o złotym kielichu ukrytym w rzymskich katakumbach. Kielich jest więzieniem dla ogromnej ilości torturowanych dusz, artefakt strzeżony jest także przez siejącą postrach bestię. Mimo niepowodzeń delfickich wypraw, Gabriel i Regrin powracają na ziemię by zmierzyć się z bestią. Przyjaciele znajdują kielich i przewracają go co umożliwia ucieczkę duszom. Przebudzona bestia zabija jednak krasnoluda, Gabrielowi udaje się uciec.\n",
    "\n",
    "Gabriel wraca do Vandroiya, który czekał na niego. Druid spełnia obietnice, zakrada się do więzienia by uwolnić Annę. Jednak znajduje tam „przemienionego” brata Jakoba który także chce uwolnić Annę. Falk von Kronberg nakrywa ich i każe aresztować. Rozpoczęła się walka w której poległ Vandroiy raniony przez Kronberga, który później zostaje uśmiercony przez brata Jakoba. Anna ucieka by ponownie złączyć się z Gabrielem. Podążają wspólnie nieznaną drogą w przyszłość (Into The Unknown).\n",
    "'''"
   ]
  },
  {
   "cell_type": "markdown",
   "metadata": {},
   "source": [
    "### ***0. Load libraries***"
   ]
  },
  {
   "cell_type": "code",
   "execution_count": 2,
   "metadata": {},
   "outputs": [],
   "source": [
    "# Text imports\n",
    "import re\n",
    "import string\n",
    "from langdetect import detect\n",
    "\n",
    "# NLTK imports\n",
    "from nltk.corpus import stopwords\n",
    "from nltk.tokenize import sent_tokenize\n",
    "from nltk.cluster.util import cosine_distance\n",
    "\n",
    "# NetworkX for TextRang Algorithm\n",
    "import networkx as nx\n",
    "\n",
    "# Keras text ans sequence imports\n",
    "from tensorflow.keras.preprocessing import text as kpt\n",
    "from tensorflow.keras.preprocessing import sequence\n",
    "\n",
    "# Misc libraries\n",
    "import numpy as np\n",
    "import operator\n",
    "from random import choice\n",
    "from typing import List\n",
    "from functools import reduce\n",
    "from IPython.core.display import display, HTML"
   ]
  },
  {
   "cell_type": "code",
   "execution_count": 69,
   "metadata": {},
   "outputs": [],
   "source": [
    "vector = List[float] # custom list element\n",
    "\n",
    "def cos_sim(v: vector, w: vector) -> float:\n",
    "    '''\n",
    "    Calculate cosine similarity between two vectors. Return 0 if both vectors\n",
    "    contain zeroes.\n",
    "\n",
    "    Arguments:\n",
    "        v:  vector\n",
    "        w:  vector\n",
    "    \n",
    "    Returns:\n",
    "        cosine similarity\n",
    "    '''\n",
    "    if ((sum(v) == 0) or (sum(w) == 0)):\n",
    "        return 0\n",
    "    else:\n",
    "        return 1 - cosine_distance(v, w)\n"
   ]
  },
  {
   "cell_type": "code",
   "execution_count": 6,
   "metadata": {},
   "outputs": [],
   "source": [
    "def retrieve_stop_words():\n",
    "    '''\n",
    "    Load stop words based on detected language\n",
    "\n",
    "    Argumenst:\n",
    "        None\n",
    "\n",
    "    Returns:\n",
    "        set of stop words \n",
    "    '''\n",
    "    from spacy.lang.en.stop_words import STOP_WORDS as STOP_WORDS_en\n",
    "    from spacy.lang.pl.stop_words import STOP_WORDS as STOP_WORDS_pl\n",
    "    lang = detect(text)\n",
    "\n",
    "    if lang == 'en':\n",
    "        STOP_WORDS = STOP_WORDS_en\n",
    "    elif lang == 'pl':\n",
    "        STOP_WORDS = STOP_WORDS_pl\n",
    "        return STOP_WORDS"
   ]
  },
  {
   "cell_type": "code",
   "execution_count": 7,
   "metadata": {},
   "outputs": [],
   "source": [
    "STOP_WORDS = retrieve_stop_words()"
   ]
  },
  {
   "cell_type": "code",
   "execution_count": 8,
   "metadata": {},
   "outputs": [],
   "source": [
    "class Preprocessing(object):\n",
    "    '''\n",
    "    Text cleaning and sentence tokenization class.\n",
    "    '''\n",
    "    def __init__(self, text):\n",
    "        self.text = text\n",
    "        self.oryg = text\n",
    "\n",
    "    def lower(self):\n",
    "        self.text = self.text.lower() \n",
    "        return self.text\n",
    "    \n",
    "    def remove_punctuation(self):\n",
    "        self.text = self.text.translate(self.text.maketrans('', '', string.punctuation.replace('.', '')))\n",
    "        return self.text \n",
    "    \n",
    "    def remove_stop_words(self):\n",
    "        self.text = ' '.join([word for word in self.text.split() if word not in STOP_WORDS])\n",
    "        return self.text\n",
    "    \n",
    "    def remove_digits(self):\n",
    "        self.text = re.sub(r'[\\d+]', '', self.text)\n",
    "        return self.text\n",
    "    \n",
    "    def sentence_tokenize(self):\n",
    "        self.text = sent_tokenize(self.text)\n",
    "        self.text = [sent.replace('.','') for sent in self.text]\n",
    "        return self.text\n",
    "    \n",
    "    def basic_pipeline(self):\n",
    "        self.lower()\n",
    "        self.remove_digits()\n",
    "        self.remove_punctuation()\n",
    "        self.remove_stop_words()\n",
    "        self.sentence_tokenize()\n",
    "        return self.text\n",
    "\n",
    "    def __call__(self):\n",
    "        return self.text"
   ]
  },
  {
   "cell_type": "code",
   "execution_count": 11,
   "metadata": {},
   "outputs": [],
   "source": [
    "def prepare_text(text: str) -> tuple:\n",
    "    '''\n",
    "    Preprocess the text, split it into sentences and return modified\n",
    "    results as well as the original text, both as lists (split based on\n",
    "    sentences)\n",
    "\n",
    "    Arguments:\n",
    "        text: original text\n",
    "    \n",
    "    Return\n",
    "        tuple containing preprocessed text (as list of sentences) and \n",
    "        origianl text (as list of sentences)\n",
    "\n",
    "    '''\n",
    "    # make a class object\n",
    "    cleaned_text = Preprocessing(text) \n",
    "    \n",
    "    # preprocess and tokenize text into sentences\n",
    "    sentences = cleaned_text.basic_pipeline() \n",
    "\n",
    "    # tokenize original text into sentences\n",
    "    raw_sentences = Preprocessing(text).sentence_tokenize() \n",
    "    return sentences, raw_sentences"
   ]
  },
  {
   "cell_type": "code",
   "execution_count": 51,
   "metadata": {},
   "outputs": [],
   "source": [
    "sentences, raw_sentences = prepare_text(text)"
   ]
  },
  {
   "cell_type": "code",
   "execution_count": 52,
   "metadata": {},
   "outputs": [
    {
     "data": {
      "text/plain": [
       "['głównym bohaterem gabriel laymann nowicjusz klasztoru dominikanów mainz',\n",
       " 'akcja toczy wraz resztą braci bierze udział polowaniu czarownice',\n",
       " 'niespodziewane spotkanie swojej przyrodniej siostry anny held osądzanej wykonywanie czarów powoduje laymann odrzuca regułę klasztoru',\n",
       " 'podstępnie zakrada biblioteki studiuje zakazane księgi',\n",
       " 'zostaje przyłapany swojego nauczyciela brata jakoba uwięziony lochu',\n",
       " 'główny bohater spotyka starszego człowieka lugaida vandroiy przedstawia druid reach out for the light',\n",
       " 'spotkany człowiek opowiada gabrielowi innym zagrożonym wymiarze – avantasii',\n",
       " 'zamian pomoc uratowaniu avantasii druid obiecuje uratowanie anny',\n",
       " 'razem udaje uciec lochów breaking away czym vandroiy zabiera gabriela kamieniołomu ukryty portal łączący oba światy',\n",
       " 'vandroiy używa przenieść gabriela równoległego świata',\n",
       " 'czasie biskup mainz johann adam von bicken brat jakob rządca falk von kronberg drodze rzymu zamierzają spotkać papieżem clemensem glory of rome',\n",
       " 'niosą księgę odkrytą gabriela',\n",
       " 'wedle starożytnego zapisu wynika księga ostatnią siódmą częścią pieczęci całości daje właścicielowi absolutną wiedzę dostanie wieży wyznaczającej środek avantasii',\n",
       " 'gabriel dostaje równoległego świata powitany dwóch mieszkańców elfa elderana krasnoluda regrina inside',\n",
       " 'opowiadają toczącej wojnie przeciwko siłom zła planach papieża sign of the cross',\n",
       " 'papież użyje pieczęci połączenie avantasią światem ludzi zostanie zamknięte oba światy dotkną straszliwe kataklizmy',\n",
       " 'gabriel przybywa momencie clemens rozmawia tajemniczym głosem dochodzącym wieży',\n",
       " 'zręcznemu gabrielowi udaje skraść pieczęć papieżowi czym zanosi miasta elfów the tower',\n",
       " 'zdarzenie kończy pierwszy album',\n",
       " 'gabriel usatysfakcjonowany',\n",
       " 'dowiedzieć świecie avantasii elderane wysyła nowicjusza drzewa poznania',\n",
       " 'gabriel objawienia widzi brata jakoba znosił okropny ból jeziorze ognia the final sacrifice',\n",
       " 'elderane opowiada gabrielowi złotym kielichu ukrytym rzymskich katakumbach',\n",
       " 'kielich więzieniem ogromnej ilości torturowanych dusz artefakt strzeżony siejącą postrach bestię',\n",
       " 'niepowodzeń delfickich wypraw gabriel regrin powracają ziemię zmierzyć bestią',\n",
       " 'przyjaciele znajdują kielich przewracają umożliwia ucieczkę duszom',\n",
       " 'przebudzona bestia zabija krasnoluda gabrielowi udaje uciec',\n",
       " 'gabriel wraca vandroiya czekał niego',\n",
       " 'druid spełnia obietnice zakrada więzienia uwolnić annę',\n",
       " 'znajduje „przemienionego” brata jakoba uwolnić annę',\n",
       " 'falk von kronberg nakrywa każe aresztować',\n",
       " 'rozpoczęła walka poległ vandroiy raniony kronberga później zostaje uśmiercony brata jakoba',\n",
       " 'anna ucieka ponownie złączyć gabrielem',\n",
       " 'podążają wspólnie nieznaną drogą przyszłość into the unknown']"
      ]
     },
     "execution_count": 52,
     "metadata": {},
     "output_type": "execute_result"
    }
   ],
   "source": [
    "sentences"
   ]
  },
  {
   "cell_type": "code",
   "execution_count": 53,
   "metadata": {},
   "outputs": [],
   "source": [
    "all_words = [elem.split() for elem in sentences]\n",
    "all_words_flattened = reduce(operator.concat, all_words)"
   ]
  },
  {
   "cell_type": "code",
   "execution_count": 55,
   "metadata": {},
   "outputs": [],
   "source": [
    "def make_representationX(sentences, max_top_words = 100, max_sent_len = 20):\n",
    "    tokenizer = kpt.Tokenizer(num_words=max_top_words)\n",
    "    tokenizer.fit_on_texts(sentences)\n",
    "    seq = tokenizer.texts_to_sequences(sentences)\n",
    "    return sequence.pad_sequences(seq, maxlen = max_sent_len, padding='post', truncating='post')"
   ]
  },
  {
   "cell_type": "code",
   "execution_count": 56,
   "metadata": {},
   "outputs": [],
   "source": [
    "sim_matrix = np.zeros((len(sentences), len(sentences)))\n",
    "sentences_repr = make_representationX(sentences)\n",
    "\n",
    "for n, sent1 in enumerate(sentences):\n",
    "    for m, sent2 in enumerate(sentences):\n",
    "        if sent1 != sent2:\n",
    "            a = sentences_repr[n]\n",
    "            b = sentences_repr[m]\n",
    "\n",
    "            sim_matrix[n][m] = cos_sim(a, b)    "
   ]
  },
  {
   "cell_type": "code",
   "execution_count": 57,
   "metadata": {},
   "outputs": [
    {
     "data": {
      "text/plain": [
       "{0: 0.032075294104480984,\n",
       " 1: 0.032202031514449385,\n",
       " 2: 0.028105162417610255,\n",
       " 3: 0.033277709501180745,\n",
       " 4: 0.029008622088911532,\n",
       " 5: 0.02945440618715988,\n",
       " 6: 0.03013764769135546,\n",
       " 7: 0.03468195854693096,\n",
       " 8: 0.02391501449577009,\n",
       " 9: 0.029444415452317154,\n",
       " 10: 0.030429323764997865,\n",
       " 11: 0.03044354950538758,\n",
       " 12: 0.036829492049345956,\n",
       " 13: 0.028133737287327515,\n",
       " 14: 0.03167248500623338,\n",
       " 15: 0.038630300996899986,\n",
       " 16: 0.02125694049997876,\n",
       " 17: 0.03140751316354146,\n",
       " 18: 0.00464396286764706,\n",
       " 19: 0.03044354950538758,\n",
       " 20: 0.02603031682443926,\n",
       " 21: 0.03276020651568418,\n",
       " 22: 0.03763831269162044,\n",
       " 23: 0.03044354950538758,\n",
       " 24: 0.03044354950538758,\n",
       " 25: 0.03044354950538758,\n",
       " 26: 0.037433148902665386,\n",
       " 27: 0.03044354950538758,\n",
       " 28: 0.030205842636297744,\n",
       " 29: 0.02455691741383579,\n",
       " 30: 0.03683428794987795,\n",
       " 31: 0.03148614002408098,\n",
       " 32: 0.00464396286764706,\n",
       " 33: 0.030443549505387576}"
      ]
     },
     "execution_count": 57,
     "metadata": {},
     "output_type": "execute_result"
    }
   ],
   "source": [
    "scores = nx.pagerank(nx.from_numpy_array(sim_matrix))\n",
    "scores"
   ]
  },
  {
   "cell_type": "code",
   "execution_count": 58,
   "metadata": {},
   "outputs": [],
   "source": [
    "summary = sorted(((scores[i], s) for i,s in enumerate(raw_sentences)), reverse = True)"
   ]
  },
  {
   "cell_type": "code",
   "execution_count": 64,
   "metadata": {},
   "outputs": [],
   "source": [
    "RATIO = 0.3"
   ]
  },
  {
   "cell_type": "code",
   "execution_count": 65,
   "metadata": {},
   "outputs": [
    {
     "data": {
      "text/plain": [
       "['Jeżeli papież użyje pieczęci połączenie między Avantasią a światem ludzi zostanie zamknięte, a oba światy dotkną straszliwe kataklizmy',\n",
       " 'Elderane opowiada Gabrielowi o złotym kielichu ukrytym w rzymskich katakumbach',\n",
       " 'Przebudzona bestia zabija jednak krasnoluda, Gabrielowi udaje się uciec',\n",
       " 'Falk von Kronberg nakrywa ich i każe aresztować',\n",
       " 'Wedle starożytnego zapisu wynika że księga jest ostatnią siódmą częścią pieczęci, która w całości daje właścicielowi absolutną wiedzę gdy tylko dostanie się on do wieży wyznaczającej środek Avantasii',\n",
       " 'W zamian za pomoc w uratowaniu Avantasii druid obiecuje uratowanie Anny',\n",
       " 'Podstępnie zakrada się do biblioteki gdzie studiuje zakazane księgi',\n",
       " 'Tam Gabriel podczas objawienia widzi brata Jakoba który znosił okropny ból w jeziorze ognia (The Final Sacrifice)',\n",
       " 'Akcja toczy się w roku 1602 roku gdzie wraz z resztą braci bierze udział w polowaniu na czarownice',\n",
       " '\\nGłównym bohaterem jest Gabriel Laymann, nowicjusz klasztoru dominikanów w Mainz']"
      ]
     },
     "execution_count": 65,
     "metadata": {},
     "output_type": "execute_result"
    }
   ],
   "source": [
    "summarized_sents = [sent[1] for sent in summary[:int(len(summary) * RATIO)]]\n",
    "summarized_sents"
   ]
  },
  {
   "cell_type": "code",
   "execution_count": 66,
   "metadata": {},
   "outputs": [],
   "source": [
    "def display_highlights(raw_sentences, summarized_sents):\n",
    "    final = []\n",
    "    for sent in raw_sentences:\n",
    "        if sent not in summarized_sents:\n",
    "            final += sent\n",
    "        else:\n",
    "            final += f'<span style=\"background-color:rgba(255,215,0,0.3);\"> {sent} </span>'\n",
    "    display(HTML(''.join([elem for elem in final])))"
   ]
  },
  {
   "cell_type": "code",
   "execution_count": 67,
   "metadata": {},
   "outputs": [
    {
     "data": {
      "text/html": [
       "<span style=\"background-color:rgba(255,215,0,0.3);\"> \n",
       "Głównym bohaterem jest Gabriel Laymann, nowicjusz klasztoru dominikanów w Mainz </span><span style=\"background-color:rgba(255,215,0,0.3);\"> Akcja toczy się w roku 1602 roku gdzie wraz z resztą braci bierze udział w polowaniu na czarownice </span>Jednak niespodziewane spotkanie swojej przyrodniej siostry Anny Held, osądzanej o wykonywanie czarów, powoduje że Laymann odrzuca regułę klasztoru<span style=\"background-color:rgba(255,215,0,0.3);\"> Podstępnie zakrada się do biblioteki gdzie studiuje zakazane księgi </span>Zostaje przyłapany przez swojego nauczyciela brata Jakoba i uwięziony w lochuGłówny bohater spotyka tam starszego człowieka Lugaida Vandroiy, który przedstawia mu się jako druid (Reach Out For The Light)Spotkany człowiek opowiada Gabrielowi o innym zagrożonym wymiarze – Avantasii<span style=\"background-color:rgba(255,215,0,0.3);\"> W zamian za pomoc w uratowaniu Avantasii druid obiecuje uratowanie Anny </span>Razem udaje im się uciec z lochów (Breaking Away) po czym Vandroiy zabiera Gabriela do kamieniołomu, gdzie ukryty jest portal łączący oba światyVandroiy używa go by przenieść Gabriela do równoległego świataW tym czasie biskup Mainz Johann Adam von Bicken, brat Jakob oraz rządca Falk von Kronberg są w drodze do Rzymu gdzie zamierzają spotkać się z papieżem Clemensem VIII (Glory of Rome)Niosą ze sobą także księgę odkrytą przez Gabriela<span style=\"background-color:rgba(255,215,0,0.3);\"> Wedle starożytnego zapisu wynika że księga jest ostatnią siódmą częścią pieczęci, która w całości daje właścicielowi absolutną wiedzę gdy tylko dostanie się on do wieży wyznaczającej środek Avantasii </span>Gdy Gabriel dostaje się do równoległego świata jest powitany przez dwóch jego mieszkańców elfa Elderana oraz krasnoluda Regrina (Inside)Opowiadają mu o toczącej się wojnie przeciwko siłom zła oraz o planach papieża (Sign Of The Cross)<span style=\"background-color:rgba(255,215,0,0.3);\"> Jeżeli papież użyje pieczęci połączenie między Avantasią a światem ludzi zostanie zamknięte, a oba światy dotkną straszliwe kataklizmy </span>Gabriel przybywa w momencie gdy Clemens VIII rozmawia z tajemniczym głosem dochodzącym z wieżyZręcznemu Gabrielowi udaje się skraść pieczęć papieżowi po czym zanosi ją do miasta elfów (The Tower)Zdarzenie to kończy pierwszy albumJednak Gabriel nie jest usatysfakcjonowanyChce dowiedzieć się więcej o świecie Avantasii dlatego Elderane wysyła nowicjusza do drzewa poznania<span style=\"background-color:rgba(255,215,0,0.3);\"> Tam Gabriel podczas objawienia widzi brata Jakoba który znosił okropny ból w jeziorze ognia (The Final Sacrifice) </span><span style=\"background-color:rgba(255,215,0,0.3);\"> Elderane opowiada Gabrielowi o złotym kielichu ukrytym w rzymskich katakumbach </span>Kielich jest więzieniem dla ogromnej ilości torturowanych dusz, artefakt strzeżony jest także przez siejącą postrach bestięMimo niepowodzeń delfickich wypraw, Gabriel i Regrin powracają na ziemię by zmierzyć się z bestiąPrzyjaciele znajdują kielich i przewracają go co umożliwia ucieczkę duszom<span style=\"background-color:rgba(255,215,0,0.3);\"> Przebudzona bestia zabija jednak krasnoluda, Gabrielowi udaje się uciec </span>Gabriel wraca do Vandroiya, który czekał na niegoDruid spełnia obietnice, zakrada się do więzienia by uwolnić AnnęJednak znajduje tam „przemienionego” brata Jakoba który także chce uwolnić Annę<span style=\"background-color:rgba(255,215,0,0.3);\"> Falk von Kronberg nakrywa ich i każe aresztować </span>Rozpoczęła się walka w której poległ Vandroiy raniony przez Kronberga, który później zostaje uśmiercony przez brata JakobaAnna ucieka by ponownie złączyć się z GabrielemPodążają wspólnie nieznaną drogą w przyszłość (Into The Unknown)"
      ],
      "text/plain": [
       "<IPython.core.display.HTML object>"
      ]
     },
     "metadata": {},
     "output_type": "display_data"
    }
   ],
   "source": [
    "display_highlights(raw_sentences, summarized_sents)"
   ]
  },
  {
   "cell_type": "code",
   "execution_count": null,
   "metadata": {},
   "outputs": [],
   "source": []
  }
 ],
 "metadata": {
  "interpreter": {
   "hash": "f5dc7221bd57f443bd21d92d893b3958d3081f94c6c945d5f95188cb4cde5b4f"
  },
  "kernelspec": {
   "display_name": "Python 3.7.5 64-bit",
   "language": "python",
   "name": "python3"
  },
  "language_info": {
   "codemirror_mode": {
    "name": "ipython",
    "version": 3
   },
   "file_extension": ".py",
   "mimetype": "text/x-python",
   "name": "python",
   "nbconvert_exporter": "python",
   "pygments_lexer": "ipython3",
   "version": "3.7.5"
  },
  "orig_nbformat": 4
 },
 "nbformat": 4,
 "nbformat_minor": 2
}
