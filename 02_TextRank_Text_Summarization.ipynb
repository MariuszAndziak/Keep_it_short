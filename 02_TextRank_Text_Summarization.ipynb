{
 "cells": [
  {
   "cell_type": "code",
   "execution_count": 1,
   "metadata": {},
   "outputs": [],
   "source": [
    "text = '''\n",
    "Głównym bohaterem jest Gabriel Laymann, nowicjusz klasztoru dominikanów w Mainz. Akcja toczy się w roku 1602 roku gdzie wraz z resztą braci bierze udział w polowaniu na czarownice. Jednak niespodziewane spotkanie swojej przyrodniej siostry Anny Held, osądzanej o wykonywanie czarów, powoduje że Laymann odrzuca regułę klasztoru. Podstępnie zakrada się do biblioteki gdzie studiuje zakazane księgi. Zostaje przyłapany przez swojego nauczyciela brata Jakoba i uwięziony w lochu.\n",
    "\n",
    "Główny bohater spotyka tam starszego człowieka Lugaida Vandroiy, który przedstawia mu się jako druid (Reach Out For The Light). Spotkany człowiek opowiada Gabrielowi o innym zagrożonym wymiarze – Avantasii. W zamian za pomoc w uratowaniu Avantasii druid obiecuje uratowanie Anny. Razem udaje im się uciec z lochów (Breaking Away) po czym Vandroiy zabiera Gabriela do kamieniołomu, gdzie ukryty jest portal łączący oba światy. Vandroiy używa go by przenieść Gabriela do równoległego świata.\n",
    "\n",
    "W tym czasie biskup Mainz Johann Adam von Bicken, brat Jakob oraz rządca Falk von Kronberg są w drodze do Rzymu gdzie zamierzają spotkać się z papieżem Clemensem VIII (Glory of Rome). Niosą ze sobą także księgę odkrytą przez Gabriela. Wedle starożytnego zapisu wynika że księga jest ostatnią siódmą częścią pieczęci, która w całości daje właścicielowi absolutną wiedzę gdy tylko dostanie się on do wieży wyznaczającej środek Avantasii.\n",
    "\n",
    "Gdy Gabriel dostaje się do równoległego świata jest powitany przez dwóch jego mieszkańców elfa Elderana oraz krasnoluda Regrina (Inside). Opowiadają mu o toczącej się wojnie przeciwko siłom zła oraz o planach papieża (Sign Of The Cross). Jeżeli papież użyje pieczęci połączenie między Avantasią a światem ludzi zostanie zamknięte, a oba światy dotkną straszliwe kataklizmy. Gabriel przybywa w momencie gdy Clemens VIII rozmawia z tajemniczym głosem dochodzącym z wieży. Zręcznemu Gabrielowi udaje się skraść pieczęć papieżowi po czym zanosi ją do miasta elfów (The Tower). Zdarzenie to kończy pierwszy album.\n",
    "\n",
    "Jednak Gabriel nie jest usatysfakcjonowany. Chce dowiedzieć się więcej o świecie Avantasii dlatego Elderane wysyła nowicjusza do drzewa poznania. Tam Gabriel podczas objawienia widzi brata Jakoba który znosił okropny ból w jeziorze ognia (The Final Sacrifice). Elderane opowiada Gabrielowi o złotym kielichu ukrytym w rzymskich katakumbach. Kielich jest więzieniem dla ogromnej ilości torturowanych dusz, artefakt strzeżony jest także przez siejącą postrach bestię. Mimo niepowodzeń delfickich wypraw, Gabriel i Regrin powracają na ziemię by zmierzyć się z bestią. Przyjaciele znajdują kielich i przewracają go co umożliwia ucieczkę duszom. Przebudzona bestia zabija jednak krasnoluda, Gabrielowi udaje się uciec.\n",
    "\n",
    "Gabriel wraca do Vandroiya, który czekał na niego. Druid spełnia obietnice, zakrada się do więzienia by uwolnić Annę. Jednak znajduje tam „przemienionego” brata Jakoba który także chce uwolnić Annę. Falk von Kronberg nakrywa ich i każe aresztować. Rozpoczęła się walka w której poległ Vandroiy raniony przez Kronberga, który później zostaje uśmiercony przez brata Jakoba. Anna ucieka by ponownie złączyć się z Gabrielem. Podążają wspólnie nieznaną drogą w przyszłość (Into The Unknown).\n",
    "'''"
   ]
  },
  {
   "cell_type": "code",
   "execution_count": 40,
   "metadata": {},
   "outputs": [],
   "source": [
    "from langdetect import detect\n",
    "from random import choice\n",
    "from nltk.corpus import stopwords\n",
    "import numpy as np\n",
    "import re\n",
    "import string\n",
    "import networkx as nx\n",
    "from collections import Counter\n",
    "\n",
    "from nltk.tokenize import sent_tokenize, word_tokenize\n",
    "from typing import List\n",
    "from functools import reduce\n",
    "import operator\n",
    "from gensim.models import Word2Vec\n",
    "from IPython.core.display import display, HTML\n",
    "from nltk.cluster.util import cosine_distance"
   ]
  },
  {
   "cell_type": "code",
   "execution_count": 3,
   "metadata": {},
   "outputs": [],
   "source": [
    "STOP_WORDS = set(stopwords.words('english'))\n",
    "from spacy.lang.pl.stop_words import STOP_WORDS"
   ]
  },
  {
   "cell_type": "code",
   "execution_count": 49,
   "metadata": {},
   "outputs": [],
   "source": [
    "vector = List[float]\n",
    "\n",
    "def cos_sim(v: vector, w: vector):\n",
    "    if ((sum(v) == 0) or (sum(w) == 0)):\n",
    "        return 0\n",
    "    else:\n",
    "        return 1 - cosine_distance(v, w)\n"
   ]
  },
  {
   "cell_type": "code",
   "execution_count": 52,
   "metadata": {},
   "outputs": [],
   "source": [
    "def retrieve_stop_words():\n",
    "    lang = detect(choice(text.split()))\n",
    "    if lang == 'en':\n",
    "        STOP_WORDS = set(stopwords.words('english'))\n",
    "    elif lang == 'pl':\n",
    "        from spacy.lang.pl.stop_words import STOP_WORDS\n",
    "    \n",
    "    return STOP_WORDS"
   ]
  },
  {
   "cell_type": "code",
   "execution_count": 53,
   "metadata": {},
   "outputs": [],
   "source": [
    "STOP_WORDS = retrieve_stop_words()"
   ]
  },
  {
   "cell_type": "code",
   "execution_count": 54,
   "metadata": {},
   "outputs": [],
   "source": [
    "class Preprocessing(object):\n",
    "    def __init__(self, text):\n",
    "        self.text = text\n",
    "        self.oryg = text\n",
    "\n",
    "    def lower(self):\n",
    "        self.text = self.text.lower() \n",
    "        return self.text\n",
    "    \n",
    "    def remove_punctuation(self):\n",
    "        self.text = self.text.translate(self.text.maketrans('', '', string.punctuation.replace('.', '')))\n",
    "        return self.text \n",
    "    \n",
    "    def remove_stop_words(self):\n",
    "        self.text = ' '.join([word for word in self.text.split() if word not in STOP_WORDS])\n",
    "        return self.text\n",
    "    \n",
    "    def remove_digits(self):\n",
    "        self.text = re.sub(r'[\\d+]', '', self.text)\n",
    "        return self.text\n",
    "    \n",
    "    def sentence_tokenize(self):\n",
    "        self.text = sent_tokenize(self.text)\n",
    "        self.text = [sent.replace('.','') for sent in self.text]\n",
    "        return self.text\n",
    "    \n",
    "    def basic_pipeline(self):\n",
    "        self.lower()\n",
    "        self.remove_digits()\n",
    "        self.remove_punctuation()\n",
    "        self.remove_stop_words()\n",
    "        self.sentence_tokenize()\n",
    "        return self.text\n",
    "\n",
    "    def __call__(self):\n",
    "        return self.text"
   ]
  },
  {
   "cell_type": "code",
   "execution_count": 55,
   "metadata": {},
   "outputs": [],
   "source": [
    "def prepare_text(text):\n",
    "    cleaned_text = Preprocessing(text)\n",
    "    sentences = cleaned_text.basic_pipeline()\n",
    "    raw_sentences = Preprocessing(text).sentence_tokenize()\n",
    "    return sentences, raw_sentences"
   ]
  },
  {
   "cell_type": "code",
   "execution_count": 56,
   "metadata": {},
   "outputs": [],
   "source": [
    "sentences, raw_sentences = prepare_text(text)"
   ]
  },
  {
   "cell_type": "code",
   "execution_count": 57,
   "metadata": {},
   "outputs": [
    {
     "data": {
      "text/plain": [
       "['głównym bohaterem gabriel laymann nowicjusz klasztoru dominikanów mainz',\n",
       " 'akcja toczy wraz resztą braci bierze udział polowaniu czarownice',\n",
       " 'niespodziewane spotkanie swojej przyrodniej siostry anny held osądzanej wykonywanie czarów powoduje laymann odrzuca regułę klasztoru',\n",
       " 'podstępnie zakrada biblioteki studiuje zakazane księgi',\n",
       " 'zostaje przyłapany swojego nauczyciela brata jakoba uwięziony lochu',\n",
       " 'główny bohater spotyka starszego człowieka lugaida vandroiy przedstawia druid reach out for the light',\n",
       " 'spotkany człowiek opowiada gabrielowi innym zagrożonym wymiarze – avantasii',\n",
       " 'zamian pomoc uratowaniu avantasii druid obiecuje uratowanie anny',\n",
       " 'razem udaje uciec lochów breaking away czym vandroiy zabiera gabriela kamieniołomu ukryty portal łączący oba światy',\n",
       " 'vandroiy używa przenieść gabriela równoległego świata',\n",
       " 'czasie biskup mainz johann adam von bicken brat jakob rządca falk von kronberg drodze rzymu zamierzają spotkać papieżem clemensem glory of rome',\n",
       " 'niosą księgę odkrytą gabriela',\n",
       " 'wedle starożytnego zapisu wynika księga ostatnią siódmą częścią pieczęci całości daje właścicielowi absolutną wiedzę dostanie wieży wyznaczającej środek avantasii',\n",
       " 'gabriel dostaje równoległego świata powitany dwóch mieszkańców elfa elderana krasnoluda regrina inside',\n",
       " 'opowiadają toczącej wojnie przeciwko siłom zła planach papieża sign of the cross',\n",
       " 'papież użyje pieczęci połączenie avantasią światem ludzi zostanie zamknięte oba światy dotkną straszliwe kataklizmy',\n",
       " 'gabriel przybywa momencie clemens rozmawia tajemniczym głosem dochodzącym wieży',\n",
       " 'zręcznemu gabrielowi udaje skraść pieczęć papieżowi czym zanosi miasta elfów the tower',\n",
       " 'zdarzenie kończy pierwszy album',\n",
       " 'gabriel usatysfakcjonowany',\n",
       " 'dowiedzieć świecie avantasii elderane wysyła nowicjusza drzewa poznania',\n",
       " 'gabriel objawienia widzi brata jakoba znosił okropny ból jeziorze ognia the final sacrifice',\n",
       " 'elderane opowiada gabrielowi złotym kielichu ukrytym rzymskich katakumbach',\n",
       " 'kielich więzieniem ogromnej ilości torturowanych dusz artefakt strzeżony siejącą postrach bestię',\n",
       " 'niepowodzeń delfickich wypraw gabriel regrin powracają ziemię zmierzyć bestią',\n",
       " 'przyjaciele znajdują kielich przewracają umożliwia ucieczkę duszom',\n",
       " 'przebudzona bestia zabija krasnoluda gabrielowi udaje uciec',\n",
       " 'gabriel wraca vandroiya czekał niego',\n",
       " 'druid spełnia obietnice zakrada więzienia uwolnić annę',\n",
       " 'znajduje „przemienionego” brata jakoba uwolnić annę',\n",
       " 'falk von kronberg nakrywa każe aresztować',\n",
       " 'rozpoczęła walka poległ vandroiy raniony kronberga później zostaje uśmiercony brata jakoba',\n",
       " 'anna ucieka ponownie złączyć gabrielem',\n",
       " 'podążają wspólnie nieznaną drogą przyszłość into the unknown']"
      ]
     },
     "execution_count": 57,
     "metadata": {},
     "output_type": "execute_result"
    }
   ],
   "source": [
    "sentences"
   ]
  },
  {
   "cell_type": "code",
   "execution_count": 58,
   "metadata": {},
   "outputs": [],
   "source": [
    "all_words = [elem.split() for elem in sentences]\n",
    "all_words_flattened = reduce(operator.concat, all_words)"
   ]
  },
  {
   "cell_type": "code",
   "execution_count": 31,
   "metadata": {},
   "outputs": [],
   "source": [
    "# def make_representation(tokens):\n",
    "#     def return_tokens(tokens):\n",
    "#         return [int(token in tokens) for token in all_words_flattened]\n",
    "    \n",
    "#     X = list(map(return_tokens, tokens))\n",
    "\n",
    "#     return X"
   ]
  },
  {
   "cell_type": "code",
   "execution_count": 59,
   "metadata": {},
   "outputs": [],
   "source": [
    "from tensorflow.keras.preprocessing import text as kpt\n",
    "from tensorflow.keras.preprocessing import sequence\n",
    "def make_representationX(sentences, max_top_words = 100, max_sent_len = 20):\n",
    "    tokenizer = kpt.Tokenizer(num_words=max_top_words)\n",
    "    tokenizer.fit_on_texts(sentences)\n",
    "    seq = tokenizer.texts_to_sequences(sentences)\n",
    "    return sequence.pad_sequences(seq, maxlen = max_sent_len, padding='post', truncating='post')\n"
   ]
  },
  {
   "cell_type": "code",
   "execution_count": 60,
   "metadata": {},
   "outputs": [
    {
     "name": "stderr",
     "output_type": "stream",
     "text": [
      "c:\\Users\\mariu\\AppData\\Local\\Programs\\Python\\Python37\\lib\\site-packages\\ipykernel_launcher.py:8: RuntimeWarning: invalid value encountered in true_divide\n",
      "  \n",
      "c:\\Users\\mariu\\AppData\\Local\\Programs\\Python\\Python37\\lib\\site-packages\\ipykernel_launcher.py:7: RuntimeWarning: invalid value encountered in true_divide\n",
      "  import sys\n"
     ]
    }
   ],
   "source": [
    "sim_matrix = np.zeros((len(sentences), len(sentences)))\n",
    "\n",
    "for sent1 in range(len(sentences)):\n",
    "    for sent2 in range(len(sentences)):\n",
    "        a = make_representationX(sentences)[]\n",
    "\n",
    "for n, sent1 in enumerate(sentences):\n",
    "    sent1 = sentences[n]\n",
    "    for m, sent2 in enumerate(sentences):\n",
    "        sent2 = sentences[m]\n",
    "        if sent1 != sent2:\n",
    "            a = np.divide(make_representationX(sentences)[n], make_representationX(sentences)[n].max())\n",
    "            b = np.divide(make_representationX(sentences)[m], make_representationX(sentences)[m].max())\n",
    "            if ((sum(a) !=0) and (sum(b) != 0)):\n",
    "                sim_matrix[n][m] = cos_sim(a,b)"
   ]
  },
  {
   "cell_type": "code",
   "execution_count": 86,
   "metadata": {},
   "outputs": [
    {
     "name": "stdout",
     "output_type": "stream",
     "text": [
      "[0.         0.79631117 0.62869267 0.62260581 0.65174129 0.57337459\n",
      " 0.92101927 0.75391551 0.48859775 0.31554602 0.62036545 0.45783916\n",
      " 0.64934738 0.36420498 0.49137591 0.55627909 0.48641874 0.33124846\n",
      " 0.         0.45783916 0.56019901 0.40839497 0.62588288 0.45783916\n",
      " 0.45783916 0.45783916 0.52963816 0.45783916 0.33499721 0.18944409\n",
      " 0.44991977 0.5953729  0.         0.45783916]\n",
      "[0.79631117 0.         0.7596697  0.75444144 0.78572802 0.68844116\n",
      " 0.85837102 0.77212587 0.63609804 0.56173904 0.74437746 0.30178203\n",
      " 0.48019069 0.55337589 0.32382225 0.53046603 0.31973627 0.50783393\n",
      " 0.         0.30178203 0.3683893  0.57499298 0.4630593  0.30178203\n",
      " 0.30178203 0.30178203 0.53717844 0.30178203 0.57035213 0.49665329\n",
      " 0.50910308 0.49003541 0.         0.30178203]\n",
      "[0.62869267 0.7596697  0.         0.54015643 0.64671994        nan\n",
      " 0.62956066 0.5531744         nan 0.47289148 0.5139925  0.25646823\n",
      " 0.40679223 0.46585193 0.27510793 0.44887569 0.27049428 0.42860952\n",
      " 0.         0.25646823 0.3118714  0.48482844 0.39251132 0.25646823\n",
      " 0.25646823 0.25646823 0.45382842 0.25646823 0.48023178 0.41762749\n",
      " 0.43059921 0.4141107  0.         0.25646823]\n",
      "[0.62260581 0.75444144 0.54015643 0.         0.50727236 0.68188515\n",
      " 0.63586567 0.67217294 0.64370299 0.68447962 0.95013558 0.42982325\n",
      " 0.45015596 0.60011712 0.437116   0.58189994 0.12936414 0.57999167\n",
      " 0.         0.42982325 0.20647783 0.62256539 0.4955101  0.42982325\n",
      " 0.42982325 0.42982325 0.69916934 0.42982325 0.68701002 0.65631143\n",
      " 0.6196876  0.39024715 0.         0.42982325]\n",
      "[0.65174129 0.78572802 0.64671994 0.50727236 0.         0.57330673\n",
      " 0.66396649 0.70120202 0.29061374 0.72958394 0.47036798 0.11266187\n",
      " 0.45725785 0.75551548 0.14417545 0.52789642 0.43439267 0.62162121\n",
      " 0.         0.11266187 0.44500178 0.73806945 0.38163293 0.11266187\n",
      " 0.11266187 0.11266187 0.49398365 0.11266187 0.7369652  0.66307132\n",
      " 0.50192222 0.59605798 0.         0.11266187]\n",
      "[0.57337459 0.68844116        nan 0.68188515 0.57330673 0.\n",
      "        nan        nan 2.57730961 0.51131879 0.67160875 0.28095009\n",
      " 0.44369037 0.50370848 0.30123322 0.48883195 0.29447658 0.46509102\n",
      " 0.         0.28095009 0.33984756 0.52539952 0.42846116 0.28095009\n",
      " 0.28095009 0.28095009 0.49313588 0.28095009 0.51939037 0.45085233\n",
      " 0.46862994 0.45014388 0.         0.28095009]\n",
      "[0.92101927 0.85837102 0.62956066 0.63586567 0.66396649        nan\n",
      " 0.         0.80690552        nan 0.24730565 0.68327203 0.39402182\n",
      " 0.56735902 0.28010517 0.42241166 0.5160988  0.41222824 0.3401334\n",
      " 0.         0.39402182 0.47587763 0.36501982 0.54807217 0.39402182\n",
      " 0.39402182 0.39402182 0.41907244 0.39402182 0.26490236 0.1397738\n",
      " 0.43795071 0.49590636 0.         0.39402182]\n",
      "[0.75391551 0.77212587 0.5531744  0.67217294 0.70120202        nan\n",
      " 0.80690552 0.                nan 0.50355563 0.71762662 0.43525579\n",
      " 0.68610067 0.49785454 0.46658922 0.75540183 0.45499712 0.6812201\n",
      " 0.         0.43525579 0.52531623 0.65856696 0.66278121 0.43525579\n",
      " 0.43525579 0.43525579 0.54879287 0.43525579 0.52147474 0.39776113\n",
      " 0.72398482 0.60485408 0.         0.43525579]\n",
      "[0.48859775 0.63609804        nan 0.64370299 0.29061374 2.57730961\n",
      "        nan        nan 0.         0.3353815  0.58062433 0.33616966\n",
      " 0.26524635 0.28921543 0.33768052 0.28134312 0.0444518  0.19194244\n",
      " 0.         0.33616966 0.10612353 0.25417629 0.31447493 0.33616966\n",
      " 0.33616966 0.33616966 0.46775939 0.33616966 0.33686111 0.31451947\n",
      " 0.28032984 0.2067943  0.         0.33616966]\n",
      "[0.31554602 0.56173904 0.47289148 0.68447962 0.72958394 0.51131879\n",
      " 0.24730565 0.50355563 0.3353815  0.         0.58485614 0.14256649\n",
      " 0.41186719 0.9593901  0.16324021 0.59040521 0.28987677 0.78449147\n",
      " 0.         0.14256649 0.30953221 0.91101361 0.37107114 0.14256649\n",
      " 0.14256649 0.14256649 0.67055913 0.14256649 0.99931433 0.97548842\n",
      " 0.629858   0.55750671 0.         0.14256649]\n",
      "[0.62036545 0.74437746 0.5139925  0.95013558 0.47036798 0.67160875\n",
      " 0.68327203 0.71762662 0.58062433 0.58485614 0.         0.28180939\n",
      " 0.43589654 0.53796759 0.29739621 0.57115555 0.23100193 0.62172406\n",
      " 0.         0.28180939 0.27805535 0.62108852 0.4330946  0.28180939\n",
      " 0.28180939 0.28180939 0.49887374 0.28180939 0.59100983 0.54289722\n",
      " 0.5983885  0.41106965 0.         0.28180939]\n",
      "[0.45783916 0.30178203 0.25646823 0.42982325 0.11266187 0.28095009\n",
      " 0.39402182 0.43525579 0.33616966 0.14256649 0.28180939 0.\n",
      " 0.6843532  0.02232721 0.99726775 0.67730924 0.03446228 0.26286477\n",
      " 0.         1.         0.22026087 0.18257419 0.8529239  1.\n",
      " 1.         1.         0.80815869 1.         0.1579597  0.06296632\n",
      " 0.6629644  0.27156272 0.         1.        ]\n",
      "[0.64934738 0.48019069 0.40679223 0.45015596 0.45725785 0.44369037\n",
      " 0.56735902 0.68610067 0.26524635 0.41186719 0.43589654 0.6843532\n",
      " 0.         0.4709422  0.73484322 0.91462181 0.73195773 0.60927825\n",
      " 0.         0.6843532  0.84212334 0.63811313 0.96297249 0.6843532\n",
      " 0.6843532  0.6843532  0.7091096  0.6843532  0.44350049 0.22109892\n",
      " 0.77842268 0.8681608  0.         0.6843532 ]\n",
      "[0.36420498 0.55337589 0.46585193 0.60011712 0.75551548 0.50370848\n",
      " 0.28010517 0.49785454 0.28921543 0.9593901  0.53796759 0.02232721\n",
      " 0.4709422  0.         0.06020124 0.56115011 0.51399033 0.73656427\n",
      " 0.         0.02232721 0.50583205 0.92126028 0.36182488 0.02232721\n",
      " 0.02232721 0.02232721 0.57379704 0.02232721 0.96457981 0.89365996\n",
      " 0.5340615  0.71303691 0.         0.02232721]\n",
      "[0.49137591 0.32382225 0.27510793 0.437116   0.14417545 0.30123322\n",
      " 0.42241166 0.46658922 0.33768052 0.16324021 0.29739621 0.99726775\n",
      " 0.73484322 0.06020124 0.         0.71298415 0.10819592 0.29127396\n",
      " 0.         0.99726775 0.29171654 0.22253654 0.88717817 0.99726775\n",
      " 0.99726775 0.99726775 0.81789061 0.99726775 0.18086561 0.06899619\n",
      " 0.68270171 0.33902745 0.         0.99726775]\n",
      "[0.55627909 0.53046603 0.44887569 0.58189994 0.52789642 0.48883195\n",
      " 0.5160988  0.75540183 0.28134312 0.59040521 0.57115555 0.67730924\n",
      " 0.91462181 0.56115011 0.71298415 0.         0.53102181 0.84463374\n",
      " 0.         0.67730924 0.64469113 0.79053549 0.91712129 0.67730924\n",
      " 0.67730924 0.67730924 0.75850307 0.67730924 0.61422325 0.45389308\n",
      " 0.96413567 0.73966916 0.         0.67730924]\n",
      "[0.48641874 0.31973627 0.27049428 0.12936414 0.43439267 0.29447658\n",
      " 0.41222824 0.45499712 0.0444518  0.28987677 0.23100193 0.03446228\n",
      " 0.73195773 0.51399033 0.10819592 0.53102181 0.         0.40312186\n",
      " 0.         0.03446228 0.98245228 0.55368913 0.52434566 0.03446228\n",
      " 0.03446228 0.03446228 0.18938672 0.03446228 0.3211754  0.08607519\n",
      " 0.31437833 0.93212348 0.         0.03446228]\n",
      "[0.33124846 0.50783393 0.42860952 0.57999167 0.62162121 0.46509102\n",
      " 0.3401334  0.6812201  0.19194244 0.78449147 0.62172406 0.26286477\n",
      " 0.60927825 0.73656427 0.29127396 0.84463374 0.40312186 0.\n",
      " 0.         0.26286477 0.44251244 0.93585028 0.56412531 0.26286477\n",
      " 0.26286477 0.26286477 0.53345153 0.26286477 0.79583912 0.71907628\n",
      " 0.89342413 0.59724842 0.         0.26286477]\n",
      "[0. 0. 0. 0. 0. 0. 0. 0. 0. 0. 0. 0. 0. 0. 0. 0. 0. 0. 0. 0. 0. 0. 0. 0.\n",
      " 0. 0. 0. 0. 0. 0. 0. 0. 0. 0.]\n",
      "[0.45783916 0.30178203 0.25646823 0.42982325 0.11266187 0.28095009\n",
      " 0.39402182 0.43525579 0.33616966 0.14256649 0.28180939 1.\n",
      " 0.6843532  0.02232721 0.99726775 0.67730924 0.03446228 0.26286477\n",
      " 0.         0.         0.22026087 0.18257419 0.8529239  1.\n",
      " 1.         1.         0.80815869 1.         0.1579597  0.06296632\n",
      " 0.6629644  0.27156272 0.         1.        ]\n",
      "[0.56019901 0.3683893  0.3118714  0.20647783 0.44500178 0.33984756\n",
      " 0.47587763 0.52531623 0.10612353 0.30953221 0.27805535 0.22026087\n",
      " 0.84212334 0.50583205 0.29171654 0.64469113 0.98245228 0.44251244\n",
      " 0.         0.22026087 0.         0.57448499 0.67094915 0.22026087\n",
      " 0.22026087 0.22026087 0.33566796 0.22026087 0.34295308 0.09576226\n",
      " 0.43056549 0.96045225 0.         0.22026087]\n",
      "[0.40839497 0.57499298 0.48482844 0.62256539 0.73806945 0.52539952\n",
      " 0.36501982 0.65856696 0.25417629 0.91101361 0.62108852 0.18257419\n",
      " 0.63811313 0.92126028 0.22253654 0.79053549 0.55368913 0.93585028\n",
      " 0.         0.18257419 0.57448499 0.         0.54753825 0.18257419\n",
      " 0.18257419 0.18257419 0.60003225 0.18257419 0.92285964 0.82388179\n",
      " 0.78434041 0.75362122 0.         0.18257419]\n",
      "[0.62588288 0.4630593  0.39251132 0.4955101  0.38163293 0.42846116\n",
      " 0.54807217 0.66278121 0.31447493 0.37107114 0.4330946  0.8529239\n",
      " 0.96297249 0.36182488 0.88717817 0.91712129 0.52434566 0.56412531\n",
      " 0.         0.8529239  0.67094915 0.54753825 0.         0.8529239\n",
      " 0.8529239  0.8529239  0.8093691  0.8529239  0.39875025 0.20962462\n",
      " 0.82374489 0.71578774 0.         0.8529239 ]\n",
      "[0.45783916 0.30178203 0.25646823 0.42982325 0.11266187 0.28095009\n",
      " 0.39402182 0.43525579 0.33616966 0.14256649 0.28180939 1.\n",
      " 0.6843532  0.02232721 0.99726775 0.67730924 0.03446228 0.26286477\n",
      " 0.         1.         0.22026087 0.18257419 0.8529239  0.\n",
      " 1.         1.         0.80815869 1.         0.1579597  0.06296632\n",
      " 0.6629644  0.27156272 0.         1.        ]\n",
      "[0.45783916 0.30178203 0.25646823 0.42982325 0.11266187 0.28095009\n",
      " 0.39402182 0.43525579 0.33616966 0.14256649 0.28180939 1.\n",
      " 0.6843532  0.02232721 0.99726775 0.67730924 0.03446228 0.26286477\n",
      " 0.         1.         0.22026087 0.18257419 0.8529239  1.\n",
      " 0.         1.         0.80815869 1.         0.1579597  0.06296632\n",
      " 0.6629644  0.27156272 0.         1.        ]\n",
      "[0.45783916 0.30178203 0.25646823 0.42982325 0.11266187 0.28095009\n",
      " 0.39402182 0.43525579 0.33616966 0.14256649 0.28180939 1.\n",
      " 0.6843532  0.02232721 0.99726775 0.67730924 0.03446228 0.26286477\n",
      " 0.         1.         0.22026087 0.18257419 0.8529239  1.\n",
      " 1.         0.         0.80815869 1.         0.1579597  0.06296632\n",
      " 0.6629644  0.27156272 0.         1.        ]\n",
      "[0.52963816 0.53717844 0.45382842 0.69916934 0.49398365 0.49313588\n",
      " 0.41907244 0.54879287 0.46775939 0.67055913 0.49887374 0.80815869\n",
      " 0.7091096  0.57379704 0.81789061 0.75850307 0.18938672 0.53345153\n",
      " 0.         0.80815869 0.33566796 0.60003225 0.8093691  0.80815869\n",
      " 0.80815869 0.80815869 0.         0.80815869 0.68030279 0.59763696\n",
      " 0.75009262 0.51940233 0.         0.80815869]\n",
      "[0.45783916 0.30178203 0.25646823 0.42982325 0.11266187 0.28095009\n",
      " 0.39402182 0.43525579 0.33616966 0.14256649 0.28180939 1.\n",
      " 0.6843532  0.02232721 0.99726775 0.67730924 0.03446228 0.26286477\n",
      " 0.         1.         0.22026087 0.18257419 0.8529239  1.\n",
      " 1.         1.         0.80815869 0.         0.1579597  0.06296632\n",
      " 0.6629644  0.27156272 0.         1.        ]\n",
      "[0.33499721 0.57035213 0.48023178 0.68701002 0.7369652  0.51939037\n",
      " 0.26490236 0.52147474 0.33686111 0.99931433 0.59100983 0.1579597\n",
      " 0.44350049 0.96457981 0.18086561 0.61422325 0.3211754  0.79583912\n",
      " 0.         0.1579597  0.34295308 0.92285964 0.39875025 0.1579597\n",
      " 0.1579597  0.1579597  0.68030279 0.1579597  0.         0.96684783\n",
      " 0.64613263 0.58660234 0.         0.1579597 ]\n",
      "[0.18944409 0.49665329 0.41762749 0.65631143 0.66307132 0.45085233\n",
      " 0.1397738  0.39776113 0.31451947 0.97548842 0.54289722 0.06296632\n",
      " 0.22109892 0.89365996 0.06899619 0.45389308 0.08607519 0.71907628\n",
      " 0.         0.06296632 0.09576226 0.82388179 0.20962462 0.06296632\n",
      " 0.06296632 0.06296632 0.59763696 0.06296632 0.96684783 0.\n",
      " 0.54379078 0.36250528 0.         0.06296632]\n",
      "[0.44991977 0.50910308 0.43059921 0.6196876  0.50192222 0.46862994\n",
      " 0.43795071 0.72398482 0.28032984 0.629858   0.5983885  0.6629644\n",
      " 0.77842268 0.5340615  0.68270171 0.96413567 0.31437833 0.89342413\n",
      " 0.         0.6629644  0.43056549 0.78434041 0.82374489 0.6629644\n",
      " 0.6629644  0.6629644  0.75009262 0.6629644  0.64613263 0.54379078\n",
      " 0.         0.56171363 0.         0.6629644 ]\n",
      "[0.5953729  0.49003541 0.4141107  0.39024715 0.59605798 0.45014388\n",
      " 0.49590636 0.60485408 0.2067943  0.55750671 0.41106965 0.27156272\n",
      " 0.8681608  0.71303691 0.33902745 0.73966916 0.93212348 0.59724842\n",
      " 0.         0.27156272 0.96045225 0.75362122 0.71578774 0.27156272\n",
      " 0.27156272 0.27156272 0.51940233 0.27156272 0.58660234 0.36250528\n",
      " 0.56171363 0.         0.         0.27156272]\n",
      "[0. 0. 0. 0. 0. 0. 0. 0. 0. 0. 0. 0. 0. 0. 0. 0. 0. 0. 0. 0. 0. 0. 0. 0.\n",
      " 0. 0. 0. 0. 0. 0. 0. 0. 0. 0.]\n",
      "[0.45783916 0.30178203 0.25646823 0.42982325 0.11266187 0.28095009\n",
      " 0.39402182 0.43525579 0.33616966 0.14256649 0.28180939 1.\n",
      " 0.6843532  0.02232721 0.99726775 0.67730924 0.03446228 0.26286477\n",
      " 0.         1.         0.22026087 0.18257419 0.8529239  1.\n",
      " 1.         1.         0.80815869 1.         0.1579597  0.06296632\n",
      " 0.6629644  0.27156272 0.         0.        ]\n"
     ]
    }
   ],
   "source": [
    "for elem in  sim_matrix:\n",
    "    print(elem)"
   ]
  },
  {
   "cell_type": "code",
   "execution_count": 38,
   "metadata": {},
   "outputs": [
    {
     "ename": "PowerIterationFailedConvergence",
     "evalue": "(PowerIterationFailedConvergence(...), 'power iteration failed to converge within 100 iterations')",
     "output_type": "error",
     "traceback": [
      "\u001b[1;31m---------------------------------------------------------------------------\u001b[0m",
      "\u001b[1;31mPowerIterationFailedConvergence\u001b[0m           Traceback (most recent call last)",
      "\u001b[1;32m<ipython-input-38-425fbf3927c5>\u001b[0m in \u001b[0;36m<module>\u001b[1;34m\u001b[0m\n\u001b[1;32m----> 1\u001b[1;33m \u001b[0mscores\u001b[0m \u001b[1;33m=\u001b[0m \u001b[0mnx\u001b[0m\u001b[1;33m.\u001b[0m\u001b[0mpagerank\u001b[0m\u001b[1;33m(\u001b[0m\u001b[0mnx\u001b[0m\u001b[1;33m.\u001b[0m\u001b[0mfrom_numpy_array\u001b[0m\u001b[1;33m(\u001b[0m\u001b[0msim_matrix\u001b[0m\u001b[1;33m)\u001b[0m\u001b[1;33m)\u001b[0m\u001b[1;33m\u001b[0m\u001b[1;33m\u001b[0m\u001b[0m\n\u001b[0m\u001b[0;32m      2\u001b[0m \u001b[0mscores\u001b[0m\u001b[1;33m\u001b[0m\u001b[1;33m\u001b[0m\u001b[0m\n",
      "\u001b[1;32m<c:\\Users\\mariu\\AppData\\Local\\Programs\\Python\\Python37\\lib\\site-packages\\decorator.py:decorator-gen-425>\u001b[0m in \u001b[0;36mpagerank\u001b[1;34m(G, alpha, personalization, max_iter, tol, nstart, weight, dangling)\u001b[0m\n",
      "\u001b[1;32mc:\\Users\\mariu\\AppData\\Local\\Programs\\Python\\Python37\\lib\\site-packages\\networkx\\utils\\decorators.py\u001b[0m in \u001b[0;36m_not_implemented_for\u001b[1;34m(not_implement_for_func, *args, **kwargs)\u001b[0m\n\u001b[0;32m     80\u001b[0m             \u001b[1;32mraise\u001b[0m \u001b[0mnx\u001b[0m\u001b[1;33m.\u001b[0m\u001b[0mNetworkXNotImplemented\u001b[0m\u001b[1;33m(\u001b[0m\u001b[0mmsg\u001b[0m\u001b[1;33m)\u001b[0m\u001b[1;33m\u001b[0m\u001b[1;33m\u001b[0m\u001b[0m\n\u001b[0;32m     81\u001b[0m         \u001b[1;32melse\u001b[0m\u001b[1;33m:\u001b[0m\u001b[1;33m\u001b[0m\u001b[1;33m\u001b[0m\u001b[0m\n\u001b[1;32m---> 82\u001b[1;33m             \u001b[1;32mreturn\u001b[0m \u001b[0mnot_implement_for_func\u001b[0m\u001b[1;33m(\u001b[0m\u001b[1;33m*\u001b[0m\u001b[0margs\u001b[0m\u001b[1;33m,\u001b[0m \u001b[1;33m**\u001b[0m\u001b[0mkwargs\u001b[0m\u001b[1;33m)\u001b[0m\u001b[1;33m\u001b[0m\u001b[1;33m\u001b[0m\u001b[0m\n\u001b[0m\u001b[0;32m     83\u001b[0m     \u001b[1;32mreturn\u001b[0m \u001b[0m_not_implemented_for\u001b[0m\u001b[1;33m\u001b[0m\u001b[1;33m\u001b[0m\u001b[0m\n\u001b[0;32m     84\u001b[0m \u001b[1;33m\u001b[0m\u001b[0m\n",
      "\u001b[1;32mc:\\Users\\mariu\\AppData\\Local\\Programs\\Python\\Python37\\lib\\site-packages\\networkx\\algorithms\\link_analysis\\pagerank_alg.py\u001b[0m in \u001b[0;36mpagerank\u001b[1;34m(G, alpha, personalization, max_iter, tol, nstart, weight, dangling)\u001b[0m\n\u001b[0;32m    156\u001b[0m         \u001b[1;32mif\u001b[0m \u001b[0merr\u001b[0m \u001b[1;33m<\u001b[0m \u001b[0mN\u001b[0m \u001b[1;33m*\u001b[0m \u001b[0mtol\u001b[0m\u001b[1;33m:\u001b[0m\u001b[1;33m\u001b[0m\u001b[1;33m\u001b[0m\u001b[0m\n\u001b[0;32m    157\u001b[0m             \u001b[1;32mreturn\u001b[0m \u001b[0mx\u001b[0m\u001b[1;33m\u001b[0m\u001b[1;33m\u001b[0m\u001b[0m\n\u001b[1;32m--> 158\u001b[1;33m     \u001b[1;32mraise\u001b[0m \u001b[0mnx\u001b[0m\u001b[1;33m.\u001b[0m\u001b[0mPowerIterationFailedConvergence\u001b[0m\u001b[1;33m(\u001b[0m\u001b[0mmax_iter\u001b[0m\u001b[1;33m)\u001b[0m\u001b[1;33m\u001b[0m\u001b[1;33m\u001b[0m\u001b[0m\n\u001b[0m\u001b[0;32m    159\u001b[0m \u001b[1;33m\u001b[0m\u001b[0m\n\u001b[0;32m    160\u001b[0m \u001b[1;33m\u001b[0m\u001b[0m\n",
      "\u001b[1;31mPowerIterationFailedConvergence\u001b[0m: (PowerIterationFailedConvergence(...), 'power iteration failed to converge within 100 iterations')"
     ]
    }
   ],
   "source": [
    "scores = nx.pagerank(nx.from_numpy_array(sim_matrix))\n",
    "scores"
   ]
  },
  {
   "cell_type": "code",
   "execution_count": 59,
   "metadata": {},
   "outputs": [],
   "source": [
    "summary = sorted(((scores[i], s) for i,s in enumerate(raw_sentences)), reverse = True)"
   ]
  },
  {
   "cell_type": "code",
   "execution_count": 74,
   "metadata": {},
   "outputs": [
    {
     "data": {
      "text/plain": [
       "['Tam Gabriel podczas objawienia widzi brata Jakoba który znosił okropny ból w jeziorze ognia (The Final Sacrifice)',\n",
       " 'Jednak Gabriel nie jest usatysfakcjonowany',\n",
       " 'Gabriel wraca do Vandroiya, który czekał na niego',\n",
       " 'Spotkany człowiek opowiada Gabrielowi o innym zagrożonym wymiarze – Avantasii',\n",
       " 'Zręcznemu Gabrielowi udaje się skraść pieczęć papieżowi po czym zanosi ją do miasta elfów (The Tower)',\n",
       " 'Niosą ze sobą także księgę odkrytą przez Gabriela',\n",
       " 'Vandroiy używa go by przenieść Gabriela do równoległego świata',\n",
       " 'Elderane opowiada Gabrielowi o złotym kielichu ukrytym w rzymskich katakumbach',\n",
       " 'Razem udaje im się uciec z lochów (Breaking Away) po czym Vandroiy zabiera Gabriela do kamieniołomu, gdzie ukryty jest portal łączący oba światy',\n",
       " 'Anna ucieka by ponownie złączyć się z Gabrielem']"
      ]
     },
     "execution_count": 74,
     "metadata": {},
     "output_type": "execute_result"
    }
   ],
   "source": [
    "summarized_sents = [sent[1] for sent in summary[:10]]\n",
    "summarized_sents"
   ]
  },
  {
   "cell_type": "code",
   "execution_count": 75,
   "metadata": {},
   "outputs": [],
   "source": [
    "def display_highlights(raw_sentences, summarized_sents):\n",
    "    final = []\n",
    "    for sent in raw_sentences:\n",
    "        if sent not in summarized_sents:\n",
    "            final += sent\n",
    "        else:\n",
    "            final += f'<span style=\"background-color:rgba(255,215,0,0.3);\"> {sent} </span>'\n",
    "    display(HTML(''.join([elem for elem in final])))"
   ]
  },
  {
   "cell_type": "code",
   "execution_count": 76,
   "metadata": {},
   "outputs": [
    {
     "data": {
      "text/html": [
       "\n",
       "Głównym bohaterem jest Gabriel Laymann, nowicjusz klasztoru dominikanów w MainzAkcja toczy się w roku 1602 roku gdzie wraz z resztą braci bierze udział w polowaniu na czarowniceJednak niespodziewane spotkanie swojej przyrodniej siostry Anny Held, osądzanej o wykonywanie czarów, powoduje że Laymann odrzuca regułę klasztoruPodstępnie zakrada się do biblioteki gdzie studiuje zakazane księgiZostaje przyłapany przez swojego nauczyciela brata Jakoba i uwięziony w lochuGłówny bohater spotyka tam starszego człowieka Lugaida Vandroiy, który przedstawia mu się jako druid (Reach Out For The Light)<span style=\"background-color:rgba(255,215,0,0.3);\"> Spotkany człowiek opowiada Gabrielowi o innym zagrożonym wymiarze – Avantasii </span>W zamian za pomoc w uratowaniu Avantasii druid obiecuje uratowanie Anny<span style=\"background-color:rgba(255,215,0,0.3);\"> Razem udaje im się uciec z lochów (Breaking Away) po czym Vandroiy zabiera Gabriela do kamieniołomu, gdzie ukryty jest portal łączący oba światy </span><span style=\"background-color:rgba(255,215,0,0.3);\"> Vandroiy używa go by przenieść Gabriela do równoległego świata </span>W tym czasie biskup Mainz Johann Adam von Bicken, brat Jakob oraz rządca Falk von Kronberg są w drodze do Rzymu gdzie zamierzają spotkać się z papieżem Clemensem VIII (Glory of Rome)<span style=\"background-color:rgba(255,215,0,0.3);\"> Niosą ze sobą także księgę odkrytą przez Gabriela </span>Wedle starożytnego zapisu wynika że księga jest ostatnią siódmą częścią pieczęci, która w całości daje właścicielowi absolutną wiedzę gdy tylko dostanie się on do wieży wyznaczającej środek AvantasiiGdy Gabriel dostaje się do równoległego świata jest powitany przez dwóch jego mieszkańców elfa Elderana oraz krasnoluda Regrina (Inside)Opowiadają mu o toczącej się wojnie przeciwko siłom zła oraz o planach papieża (Sign Of The Cross)Jeżeli papież użyje pieczęci połączenie między Avantasią a światem ludzi zostanie zamknięte, a oba światy dotkną straszliwe kataklizmyGabriel przybywa w momencie gdy Clemens VIII rozmawia z tajemniczym głosem dochodzącym z wieży<span style=\"background-color:rgba(255,215,0,0.3);\"> Zręcznemu Gabrielowi udaje się skraść pieczęć papieżowi po czym zanosi ją do miasta elfów (The Tower) </span>Zdarzenie to kończy pierwszy album<span style=\"background-color:rgba(255,215,0,0.3);\"> Jednak Gabriel nie jest usatysfakcjonowany </span>Chce dowiedzieć się więcej o świecie Avantasii dlatego Elderane wysyła nowicjusza do drzewa poznania<span style=\"background-color:rgba(255,215,0,0.3);\"> Tam Gabriel podczas objawienia widzi brata Jakoba który znosił okropny ból w jeziorze ognia (The Final Sacrifice) </span><span style=\"background-color:rgba(255,215,0,0.3);\"> Elderane opowiada Gabrielowi o złotym kielichu ukrytym w rzymskich katakumbach </span>Kielich jest więzieniem dla ogromnej ilości torturowanych dusz, artefakt strzeżony jest także przez siejącą postrach bestięMimo niepowodzeń delfickich wypraw, Gabriel i Regrin powracają na ziemię by zmierzyć się z bestiąPrzyjaciele znajdują kielich i przewracają go co umożliwia ucieczkę duszomPrzebudzona bestia zabija jednak krasnoluda, Gabrielowi udaje się uciec<span style=\"background-color:rgba(255,215,0,0.3);\"> Gabriel wraca do Vandroiya, który czekał na niego </span>Druid spełnia obietnice, zakrada się do więzienia by uwolnić AnnęJednak znajduje tam „przemienionego” brata Jakoba który także chce uwolnić AnnęFalk von Kronberg nakrywa ich i każe aresztowaćRozpoczęła się walka w której poległ Vandroiy raniony przez Kronberga, który później zostaje uśmiercony przez brata Jakoba<span style=\"background-color:rgba(255,215,0,0.3);\"> Anna ucieka by ponownie złączyć się z Gabrielem </span>Podążają wspólnie nieznaną drogą w przyszłość (Into The Unknown)"
      ],
      "text/plain": [
       "<IPython.core.display.HTML object>"
      ]
     },
     "metadata": {},
     "output_type": "display_data"
    }
   ],
   "source": [
    "display_highlights(raw_sentences, summarized_sents)"
   ]
  },
  {
   "cell_type": "code",
   "execution_count": null,
   "metadata": {},
   "outputs": [],
   "source": []
  }
 ],
 "metadata": {
  "interpreter": {
   "hash": "f5dc7221bd57f443bd21d92d893b3958d3081f94c6c945d5f95188cb4cde5b4f"
  },
  "kernelspec": {
   "display_name": "Python 3.7.5 64-bit",
   "language": "python",
   "name": "python3"
  },
  "language_info": {
   "codemirror_mode": {
    "name": "ipython",
    "version": 3
   },
   "file_extension": ".py",
   "mimetype": "text/x-python",
   "name": "python",
   "nbconvert_exporter": "python",
   "pygments_lexer": "ipython3",
   "version": "3.7.5"
  },
  "orig_nbformat": 4
 },
 "nbformat": 4,
 "nbformat_minor": 2
}
