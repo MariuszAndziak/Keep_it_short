{
 "cells": [
  {
   "cell_type": "code",
   "execution_count": 1,
   "metadata": {},
   "outputs": [],
   "source": [
    "text = '''\n",
    "Głównym bohaterem jest Gabriel Laymann, nowicjusz klasztoru dominikanów w Mainz. Akcja toczy się w roku 1602 roku gdzie wraz z resztą braci bierze udział w polowaniu na czarownice. Jednak niespodziewane spotkanie swojej przyrodniej siostry Anny Held, osądzanej o wykonywanie czarów, powoduje że Laymann odrzuca regułę klasztoru. Podstępnie zakrada się do biblioteki gdzie studiuje zakazane księgi. Zostaje przyłapany przez swojego nauczyciela brata Jakoba i uwięziony w lochu.\n",
    "\n",
    "Główny bohater spotyka tam starszego człowieka Lugaida Vandroiy, który przedstawia mu się jako druid (Reach Out For The Light). Spotkany człowiek opowiada Gabrielowi o innym zagrożonym wymiarze – Avantasii. W zamian za pomoc w uratowaniu Avantasii druid obiecuje uratowanie Anny. Razem udaje im się uciec z lochów (Breaking Away) po czym Vandroiy zabiera Gabriela do kamieniołomu, gdzie ukryty jest portal łączący oba światy. Vandroiy używa go by przenieść Gabriela do równoległego świata.\n",
    "\n",
    "W tym czasie biskup Mainz Johann Adam von Bicken, brat Jakob oraz rządca Falk von Kronberg są w drodze do Rzymu gdzie zamierzają spotkać się z papieżem Clemensem VIII (Glory of Rome). Niosą ze sobą także księgę odkrytą przez Gabriela. Wedle starożytnego zapisu wynika że księga jest ostatnią siódmą częścią pieczęci, która w całości daje właścicielowi absolutną wiedzę gdy tylko dostanie się on do wieży wyznaczającej środek Avantasii.\n",
    "\n",
    "Gdy Gabriel dostaje się do równoległego świata jest powitany przez dwóch jego mieszkańców elfa Elderana oraz krasnoluda Regrina (Inside). Opowiadają mu o toczącej się wojnie przeciwko siłom zła oraz o planach papieża (Sign Of The Cross). Jeżeli papież użyje pieczęci połączenie między Avantasią a światem ludzi zostanie zamknięte, a oba światy dotkną straszliwe kataklizmy. Gabriel przybywa w momencie gdy Clemens VIII rozmawia z tajemniczym głosem dochodzącym z wieży. Zręcznemu Gabrielowi udaje się skraść pieczęć papieżowi po czym zanosi ją do miasta elfów (The Tower). Zdarzenie to kończy pierwszy album.\n",
    "\n",
    "Jednak Gabriel nie jest usatysfakcjonowany. Chce dowiedzieć się więcej o świecie Avantasii dlatego Elderane wysyła nowicjusza do drzewa poznania. Tam Gabriel podczas objawienia widzi brata Jakoba który znosił okropny ból w jeziorze ognia (The Final Sacrifice). Elderane opowiada Gabrielowi o złotym kielichu ukrytym w rzymskich katakumbach. Kielich jest więzieniem dla ogromnej ilości torturowanych dusz, artefakt strzeżony jest także przez siejącą postrach bestię. Mimo niepowodzeń delfickich wypraw, Gabriel i Regrin powracają na ziemię by zmierzyć się z bestią. Przyjaciele znajdują kielich i przewracają go co umożliwia ucieczkę duszom. Przebudzona bestia zabija jednak krasnoluda, Gabrielowi udaje się uciec.\n",
    "\n",
    "Gabriel wraca do Vandroiya, który czekał na niego. Druid spełnia obietnice, zakrada się do więzienia by uwolnić Annę. Jednak znajduje tam „przemienionego” brata Jakoba który także chce uwolnić Annę. Falk von Kronberg nakrywa ich i każe aresztować. Rozpoczęła się walka w której poległ Vandroiy raniony przez Kronberga, który później zostaje uśmiercony przez brata Jakoba. Anna ucieka by ponownie złączyć się z Gabrielem. Podążają wspólnie nieznaną drogą w przyszłość (Into The Unknown).\n",
    "'''"
   ]
  },
  {
   "cell_type": "code",
   "execution_count": 28,
   "metadata": {},
   "outputs": [],
   "source": [
    "import nltk\n",
    "from nltk.corpus import stopwords\n",
    "import numpy as np\n",
    "import re\n",
    "import string\n",
    "import networkx as nx\n",
    "from collections import Counter\n",
    "\n",
    "from nltk.tokenize import sent_tokenize, word_tokenize\n",
    "from sklearn.feature_extraction.text import CountVectorizer, TfidfTransformer\n",
    "from sklearn.pipeline import Pipeline\n",
    "from typing import List\n",
    "from functools import reduce\n",
    "import operator\n",
    "from gensim.models import Word2Vec\n",
    "from IPython.core.display import display, HTML"
   ]
  },
  {
   "cell_type": "code",
   "execution_count": 4,
   "metadata": {},
   "outputs": [],
   "source": [
    "# STOP_WORDS = set(stopwords.words('english'))\n",
    "from spacy.lang.pl.stop_words import STOP_WORDS"
   ]
  },
  {
   "cell_type": "code",
   "execution_count": 5,
   "metadata": {},
   "outputs": [],
   "source": [
    "vector = List[float]\n",
    "\n",
    "def dot(v: vector, w: vector):\n",
    "    return sum([vi * wi for vi, wi in zip(v,w)])\n",
    "\n",
    "def cos_sim(v: vector, w: vector):\n",
    "    return dot(v, w) / (dot(v,v) * dot(w,w)) ** .5\n"
   ]
  },
  {
   "cell_type": "code",
   "execution_count": 6,
   "metadata": {},
   "outputs": [],
   "source": [
    "class Preprocessing(object):\n",
    "    def __init__(self, text):\n",
    "        self.text = text\n",
    "        self.oryg = text\n",
    "\n",
    "    def lower(self):\n",
    "        self.text = self.text.lower() \n",
    "        return self.text\n",
    "    \n",
    "    def remove_punctuation(self):\n",
    "        self.text = self.text.translate(self.text.maketrans('', '', string.punctuation.replace('.', '')))\n",
    "        return self.text \n",
    "    \n",
    "    def remove_stop_words(self):\n",
    "        self.text = ' '.join([word for word in self.text.split() if word not in STOP_WORDS])\n",
    "        return self.text\n",
    "    \n",
    "    def remove_digits(self):\n",
    "        self.text = re.sub(r'[\\d+]', '', self.text)\n",
    "        return self.text\n",
    "    \n",
    "    def sentence_tokenize(self):\n",
    "        self.text = sent_tokenize(self.text)\n",
    "        self.text = [sent.replace('.','') for sent in self.text]\n",
    "        return self.text\n",
    "    \n",
    "    def basic_pipeline(self):\n",
    "        self.lower()\n",
    "        self.remove_digits()\n",
    "        self.remove_punctuation()\n",
    "        self.remove_stop_words()\n",
    "        self.sentence_tokenize()\n",
    "        return self.text\n",
    "\n",
    "    def __call__(self):\n",
    "        return self.text"
   ]
  },
  {
   "cell_type": "code",
   "execution_count": 7,
   "metadata": {},
   "outputs": [],
   "source": [
    "def prepare_text(text):\n",
    "    cleaned_text = Preprocessing(text)\n",
    "    sentences = cleaned_text.basic_pipeline()\n",
    "    raw_sentences = Preprocessing(text).sentence_tokenize()\n",
    "    return sentences, raw_sentences"
   ]
  },
  {
   "cell_type": "code",
   "execution_count": 8,
   "metadata": {},
   "outputs": [],
   "source": [
    "sentences, raw_sentences = prepare_text(text)"
   ]
  },
  {
   "cell_type": "code",
   "execution_count": 9,
   "metadata": {},
   "outputs": [
    {
     "data": {
      "text/plain": [
       "['głównym bohaterem gabriel laymann nowicjusz klasztoru dominikanów mainz',\n",
       " 'akcja toczy wraz resztą braci bierze udział polowaniu czarownice',\n",
       " 'niespodziewane spotkanie swojej przyrodniej siostry anny held osądzanej wykonywanie czarów powoduje laymann odrzuca regułę klasztoru',\n",
       " 'podstępnie zakrada biblioteki studiuje zakazane księgi',\n",
       " 'zostaje przyłapany swojego nauczyciela brata jakoba uwięziony lochu',\n",
       " 'główny bohater spotyka starszego człowieka lugaida vandroiy przedstawia druid reach out for the light',\n",
       " 'spotkany człowiek opowiada gabrielowi innym zagrożonym wymiarze – avantasii',\n",
       " 'zamian pomoc uratowaniu avantasii druid obiecuje uratowanie anny',\n",
       " 'razem udaje uciec lochów breaking away czym vandroiy zabiera gabriela kamieniołomu ukryty portal łączący oba światy',\n",
       " 'vandroiy używa przenieść gabriela równoległego świata',\n",
       " 'czasie biskup mainz johann adam von bicken brat jakob rządca falk von kronberg drodze rzymu zamierzają spotkać papieżem clemensem glory of rome',\n",
       " 'niosą księgę odkrytą gabriela',\n",
       " 'wedle starożytnego zapisu wynika księga ostatnią siódmą częścią pieczęci całości daje właścicielowi absolutną wiedzę dostanie wieży wyznaczającej środek avantasii',\n",
       " 'gabriel dostaje równoległego świata powitany dwóch mieszkańców elfa elderana krasnoluda regrina inside',\n",
       " 'opowiadają toczącej wojnie przeciwko siłom zła planach papieża sign of the cross',\n",
       " 'papież użyje pieczęci połączenie avantasią światem ludzi zostanie zamknięte oba światy dotkną straszliwe kataklizmy',\n",
       " 'gabriel przybywa momencie clemens rozmawia tajemniczym głosem dochodzącym wieży',\n",
       " 'zręcznemu gabrielowi udaje skraść pieczęć papieżowi czym zanosi miasta elfów the tower',\n",
       " 'zdarzenie kończy pierwszy album',\n",
       " 'gabriel usatysfakcjonowany',\n",
       " 'dowiedzieć świecie avantasii elderane wysyła nowicjusza drzewa poznania',\n",
       " 'gabriel objawienia widzi brata jakoba znosił okropny ból jeziorze ognia the final sacrifice',\n",
       " 'elderane opowiada gabrielowi złotym kielichu ukrytym rzymskich katakumbach',\n",
       " 'kielich więzieniem ogromnej ilości torturowanych dusz artefakt strzeżony siejącą postrach bestię',\n",
       " 'niepowodzeń delfickich wypraw gabriel regrin powracają ziemię zmierzyć bestią',\n",
       " 'przyjaciele znajdują kielich przewracają umożliwia ucieczkę duszom',\n",
       " 'przebudzona bestia zabija krasnoluda gabrielowi udaje uciec',\n",
       " 'gabriel wraca vandroiya czekał niego',\n",
       " 'druid spełnia obietnice zakrada więzienia uwolnić annę',\n",
       " 'znajduje „przemienionego” brata jakoba uwolnić annę',\n",
       " 'falk von kronberg nakrywa każe aresztować',\n",
       " 'rozpoczęła walka poległ vandroiy raniony kronberga później zostaje uśmiercony brata jakoba',\n",
       " 'anna ucieka ponownie złączyć gabrielem',\n",
       " 'podążają wspólnie nieznaną drogą przyszłość into the unknown']"
      ]
     },
     "execution_count": 9,
     "metadata": {},
     "output_type": "execute_result"
    }
   ],
   "source": [
    "sentences"
   ]
  },
  {
   "cell_type": "code",
   "execution_count": 25,
   "metadata": {},
   "outputs": [],
   "source": [
    "all_words = [elem.split() for elem in sentences]\n",
    "all_words_flattened = reduce(operator.concat, all_words)"
   ]
  },
  {
   "cell_type": "code",
   "execution_count": 41,
   "metadata": {},
   "outputs": [],
   "source": [
    "def make_representation(tokens):\n",
    "    def return_tokens(tokens):\n",
    "        return [int(token in tokens) for token in all_words_flattened]\n",
    "    \n",
    "    X = list(map(return_tokens, tokens))\n",
    "\n",
    "    return X"
   ]
  },
  {
   "cell_type": "code",
   "execution_count": 46,
   "metadata": {},
   "outputs": [],
   "source": []
  },
  {
   "cell_type": "code",
   "execution_count": 54,
   "metadata": {},
   "outputs": [],
   "source": [
    "sim_matrix = np.zeros((len(sentences), len(sentences)))\n",
    "for sent1 in range(len(sentences)):\n",
    "    for sent2 in range(len(sentences)):\n",
    "        if sent1 == sent2:\n",
    "            continue         \n",
    "        a = make_representation(sentences)[sent1]\n",
    "        b = make_representation(sentences)[sent2]\n",
    "        # print(cos_sim(a,b))\n",
    "        sim_matrix[sent1][sent2] = cos_sim(a,b)"
   ]
  },
  {
   "cell_type": "code",
   "execution_count": 56,
   "metadata": {},
   "outputs": [
    {
     "data": {
      "text/plain": [
       "{0: 0.04500595658518015,\n",
       " 1: 0.004643962848297214,\n",
       " 2: 0.007946805996030312,\n",
       " 3: 0.008840043523319834,\n",
       " 4: 0.02452590758266116,\n",
       " 5: 0.024536906490381018,\n",
       " 6: 0.04886718093620607,\n",
       " 7: 0.021708080681938136,\n",
       " 8: 0.04589805891417531,\n",
       " 9: 0.04616203065140028,\n",
       " 10: 0.01910958025757991,\n",
       " 11: 0.04644167720935029,\n",
       " 12: 0.0147064177114482,\n",
       " 13: 0.03778582219689228,\n",
       " 14: 0.017324279752864956,\n",
       " 15: 0.012537223195066987,\n",
       " 16: 0.04173633906397088,\n",
       " 17: 0.04669483152551883,\n",
       " 18: 0.004643962848297214,\n",
       " 19: 0.054193780600936076,\n",
       " 20: 0.01481968186964313,\n",
       " 21: 0.05454866674084134,\n",
       " 22: 0.04595526206564974,\n",
       " 23: 0.009211582850948705,\n",
       " 24: 0.04247855088417967,\n",
       " 25: 0.013068699702118382,\n",
       " 26: 0.04452716817492944,\n",
       " 27: 0.04993150859523551,\n",
       " 28: 0.020327696269464297,\n",
       " 29: 0.028813846818924238,\n",
       " 30: 0.011788223070272153,\n",
       " 31: 0.030688248416153783,\n",
       " 32: 0.045830059282719375,\n",
       " 33: 0.014701956687405461}"
      ]
     },
     "execution_count": 56,
     "metadata": {},
     "output_type": "execute_result"
    }
   ],
   "source": [
    "scores = nx.pagerank(nx.from_numpy_array(sim_matrix))\n",
    "scores"
   ]
  },
  {
   "cell_type": "code",
   "execution_count": 59,
   "metadata": {},
   "outputs": [],
   "source": [
    "summary = sorted(((scores[i], s) for i,s in enumerate(raw_sentences)), reverse = True)"
   ]
  },
  {
   "cell_type": "code",
   "execution_count": 74,
   "metadata": {},
   "outputs": [
    {
     "data": {
      "text/plain": [
       "['Tam Gabriel podczas objawienia widzi brata Jakoba który znosił okropny ból w jeziorze ognia (The Final Sacrifice)',\n",
       " 'Jednak Gabriel nie jest usatysfakcjonowany',\n",
       " 'Gabriel wraca do Vandroiya, który czekał na niego',\n",
       " 'Spotkany człowiek opowiada Gabrielowi o innym zagrożonym wymiarze – Avantasii',\n",
       " 'Zręcznemu Gabrielowi udaje się skraść pieczęć papieżowi po czym zanosi ją do miasta elfów (The Tower)',\n",
       " 'Niosą ze sobą także księgę odkrytą przez Gabriela',\n",
       " 'Vandroiy używa go by przenieść Gabriela do równoległego świata',\n",
       " 'Elderane opowiada Gabrielowi o złotym kielichu ukrytym w rzymskich katakumbach',\n",
       " 'Razem udaje im się uciec z lochów (Breaking Away) po czym Vandroiy zabiera Gabriela do kamieniołomu, gdzie ukryty jest portal łączący oba światy',\n",
       " 'Anna ucieka by ponownie złączyć się z Gabrielem']"
      ]
     },
     "execution_count": 74,
     "metadata": {},
     "output_type": "execute_result"
    }
   ],
   "source": [
    "summarized_sents = [sent[1] for sent in summary[:10]]\n",
    "summarized_sents"
   ]
  },
  {
   "cell_type": "code",
   "execution_count": 75,
   "metadata": {},
   "outputs": [],
   "source": [
    "def display_highlights(raw_sentences, summarized_sents):\n",
    "    final = []\n",
    "    for sent in raw_sentences:\n",
    "        if sent not in summarized_sents:\n",
    "            final += sent\n",
    "        else:\n",
    "            final += f'<span style=\"background-color:rgba(255,215,0,0.3);\"> {sent} </span>'\n",
    "    display(HTML(''.join([elem for elem in final])))"
   ]
  },
  {
   "cell_type": "code",
   "execution_count": 76,
   "metadata": {},
   "outputs": [
    {
     "data": {
      "text/html": [
       "\n",
       "Głównym bohaterem jest Gabriel Laymann, nowicjusz klasztoru dominikanów w MainzAkcja toczy się w roku 1602 roku gdzie wraz z resztą braci bierze udział w polowaniu na czarowniceJednak niespodziewane spotkanie swojej przyrodniej siostry Anny Held, osądzanej o wykonywanie czarów, powoduje że Laymann odrzuca regułę klasztoruPodstępnie zakrada się do biblioteki gdzie studiuje zakazane księgiZostaje przyłapany przez swojego nauczyciela brata Jakoba i uwięziony w lochuGłówny bohater spotyka tam starszego człowieka Lugaida Vandroiy, który przedstawia mu się jako druid (Reach Out For The Light)<span style=\"background-color:rgba(255,215,0,0.3);\"> Spotkany człowiek opowiada Gabrielowi o innym zagrożonym wymiarze – Avantasii </span>W zamian za pomoc w uratowaniu Avantasii druid obiecuje uratowanie Anny<span style=\"background-color:rgba(255,215,0,0.3);\"> Razem udaje im się uciec z lochów (Breaking Away) po czym Vandroiy zabiera Gabriela do kamieniołomu, gdzie ukryty jest portal łączący oba światy </span><span style=\"background-color:rgba(255,215,0,0.3);\"> Vandroiy używa go by przenieść Gabriela do równoległego świata </span>W tym czasie biskup Mainz Johann Adam von Bicken, brat Jakob oraz rządca Falk von Kronberg są w drodze do Rzymu gdzie zamierzają spotkać się z papieżem Clemensem VIII (Glory of Rome)<span style=\"background-color:rgba(255,215,0,0.3);\"> Niosą ze sobą także księgę odkrytą przez Gabriela </span>Wedle starożytnego zapisu wynika że księga jest ostatnią siódmą częścią pieczęci, która w całości daje właścicielowi absolutną wiedzę gdy tylko dostanie się on do wieży wyznaczającej środek AvantasiiGdy Gabriel dostaje się do równoległego świata jest powitany przez dwóch jego mieszkańców elfa Elderana oraz krasnoluda Regrina (Inside)Opowiadają mu o toczącej się wojnie przeciwko siłom zła oraz o planach papieża (Sign Of The Cross)Jeżeli papież użyje pieczęci połączenie między Avantasią a światem ludzi zostanie zamknięte, a oba światy dotkną straszliwe kataklizmyGabriel przybywa w momencie gdy Clemens VIII rozmawia z tajemniczym głosem dochodzącym z wieży<span style=\"background-color:rgba(255,215,0,0.3);\"> Zręcznemu Gabrielowi udaje się skraść pieczęć papieżowi po czym zanosi ją do miasta elfów (The Tower) </span>Zdarzenie to kończy pierwszy album<span style=\"background-color:rgba(255,215,0,0.3);\"> Jednak Gabriel nie jest usatysfakcjonowany </span>Chce dowiedzieć się więcej o świecie Avantasii dlatego Elderane wysyła nowicjusza do drzewa poznania<span style=\"background-color:rgba(255,215,0,0.3);\"> Tam Gabriel podczas objawienia widzi brata Jakoba który znosił okropny ból w jeziorze ognia (The Final Sacrifice) </span><span style=\"background-color:rgba(255,215,0,0.3);\"> Elderane opowiada Gabrielowi o złotym kielichu ukrytym w rzymskich katakumbach </span>Kielich jest więzieniem dla ogromnej ilości torturowanych dusz, artefakt strzeżony jest także przez siejącą postrach bestięMimo niepowodzeń delfickich wypraw, Gabriel i Regrin powracają na ziemię by zmierzyć się z bestiąPrzyjaciele znajdują kielich i przewracają go co umożliwia ucieczkę duszomPrzebudzona bestia zabija jednak krasnoluda, Gabrielowi udaje się uciec<span style=\"background-color:rgba(255,215,0,0.3);\"> Gabriel wraca do Vandroiya, który czekał na niego </span>Druid spełnia obietnice, zakrada się do więzienia by uwolnić AnnęJednak znajduje tam „przemienionego” brata Jakoba który także chce uwolnić AnnęFalk von Kronberg nakrywa ich i każe aresztowaćRozpoczęła się walka w której poległ Vandroiy raniony przez Kronberga, który później zostaje uśmiercony przez brata Jakoba<span style=\"background-color:rgba(255,215,0,0.3);\"> Anna ucieka by ponownie złączyć się z Gabrielem </span>Podążają wspólnie nieznaną drogą w przyszłość (Into The Unknown)"
      ],
      "text/plain": [
       "<IPython.core.display.HTML object>"
      ]
     },
     "metadata": {},
     "output_type": "display_data"
    }
   ],
   "source": [
    "display_highlights(raw_sentences, summarized_sents)"
   ]
  },
  {
   "cell_type": "code",
   "execution_count": null,
   "metadata": {},
   "outputs": [],
   "source": []
  }
 ],
 "metadata": {
  "interpreter": {
   "hash": "f5dc7221bd57f443bd21d92d893b3958d3081f94c6c945d5f95188cb4cde5b4f"
  },
  "kernelspec": {
   "display_name": "Python 3.7.5 64-bit",
   "language": "python",
   "name": "python3"
  },
  "language_info": {
   "codemirror_mode": {
    "name": "ipython",
    "version": 3
   },
   "file_extension": ".py",
   "mimetype": "text/x-python",
   "name": "python",
   "nbconvert_exporter": "python",
   "pygments_lexer": "ipython3",
   "version": "3.7.5"
  },
  "orig_nbformat": 4
 },
 "nbformat": 4,
 "nbformat_minor": 2
}
