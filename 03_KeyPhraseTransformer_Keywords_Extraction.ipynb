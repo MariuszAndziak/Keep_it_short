{
 "cells": [
  {
   "cell_type": "code",
   "execution_count": 4,
   "metadata": {},
   "outputs": [],
   "source": [
    "from IPython.core.display import display, HTML"
   ]
  },
  {
   "cell_type": "code",
   "execution_count": 1,
   "metadata": {},
   "outputs": [],
   "source": [
    "text = '''\n",
    "Głównym bohaterem jest Gabriel Laymann, nowicjusz klasztoru dominikanów w Mainz. Akcja toczy się w roku 1602 roku gdzie wraz z resztą braci bierze udział w polowaniu na czarownice. Jednak niespodziewane spotkanie swojej przyrodniej siostry Anny Held, osądzanej o wykonywanie czarów, powoduje że Laymann odrzuca regułę klasztoru. Podstępnie zakrada się do biblioteki gdzie studiuje zakazane księgi. Zostaje przyłapany przez swojego nauczyciela brata Jakoba i uwięziony w lochu.\n",
    "Główny bohater spotyka tam starszego człowieka Lugaida Vandroiy, który przedstawia mu się jako druid (Reach Out For The Light). Spotkany człowiek opowiada Gabrielowi o innym zagrożonym wymiarze – Avantasii. W zamian za pomoc w uratowaniu Avantasii druid obiecuje uratowanie Anny. Razem udaje im się uciec z lochów (Breaking Away) po czym Vandroiy zabiera Gabriela do kamieniołomu, gdzie ukryty jest portal łączący oba światy. Vandroiy używa go by przenieść Gabriela do równoległego świata.\n",
    "W tym czasie biskup Mainz Johann Adam von Bicken, brat Jakob oraz rządca Falk von Kronberg są w drodze do Rzymu gdzie zamierzają spotkać się z papieżem Clemensem VIII (Glory of Rome). Niosą ze sobą także księgę odkrytą przez Gabriela. Wedle starożytnego zapisu wynika że księga jest ostatnią siódmą częścią pieczęci, która w całości daje właścicielowi absolutną wiedzę gdy tylko dostanie się on do wieży wyznaczającej środek Avantasii.\n",
    "Gdy Gabriel dostaje się do równoległego świata jest powitany przez dwóch jego mieszkańców elfa Elderana oraz krasnoluda Regrina (Inside). Opowiadają mu o toczącej się wojnie przeciwko siłom zła oraz o planach papieża (Sign Of The Cross). Jeżeli papież użyje pieczęci połączenie między Avantasią a światem ludzi zostanie zamknięte, a oba światy dotkną straszliwe kataklizmy. Gabriel przybywa w momencie gdy Clemens VIII rozmawia z tajemniczym głosem dochodzącym z wieży. Zręcznemu Gabrielowi udaje się skraść pieczęć papieżowi po czym zanosi ją do miasta elfów (The Tower). Zdarzenie to kończy pierwszy album.\n",
    "Jednak Gabriel nie jest usatysfakcjonowany. Chce dowiedzieć się więcej o świecie Avantasii dlatego Elderane wysyła nowicjusza do drzewa poznania. Tam Gabriel podczas objawienia widzi brata Jakoba który znosił okropny ból w jeziorze ognia (The Final Sacrifice). Elderane opowiada Gabrielowi o złotym kielichu ukrytym w rzymskich katakumbach. Kielich jest więzieniem dla ogromnej ilości torturowanych dusz, artefakt strzeżony jest także przez siejącą postrach bestię. Mimo niepowodzeń delfickich wypraw, Gabriel i Regrin powracają na ziemię by zmierzyć się z bestią. Przyjaciele znajdują kielich i przewracają go co umożliwia ucieczkę duszom. Przebudzona bestia zabija jednak krasnoluda, Gabrielowi udaje się uciec.\n",
    "Gabriel wraca do Vandroiya, który czekał na niego. Druid spełnia obietnice, zakrada się do więzienia by uwolnić Annę. Jednak znajduje tam „przemienionego” brata Jakoba który także chce uwolnić Annę. Falk von Kronberg nakrywa ich i każe aresztować. Rozpoczęła się walka w której poległ Vandroiy raniony przez Kronberga, który później zostaje uśmiercony przez brata Jakoba. Anna ucieka by ponownie złączyć się z Gabrielem. Podążają wspólnie nieznaną drogą w przyszłość (Into The Unknown).\n",
    "'''"
   ]
  },
  {
   "cell_type": "code",
   "execution_count": 2,
   "metadata": {},
   "outputs": [],
   "source": [
    "from keyphrasetransformer import KeyPhraseTransformer"
   ]
  },
  {
   "cell_type": "code",
   "execution_count": 12,
   "metadata": {},
   "outputs": [],
   "source": [
    "kp = KeyPhraseTransformer()\n",
    "\n",
    "key = kp.get_key_phrases(text)"
   ]
  },
  {
   "cell_type": "code",
   "execution_count": 10,
   "metadata": {},
   "outputs": [],
   "source": [
    "\n",
    "def display_highlights(raw_sentences, summarized_sents):\n",
    "    final = []\n",
    "    for sent in raw_sentences:\n",
    "        if sent not in summarized_sents:\n",
    "            final += sent\n",
    "        else:\n",
    "            final += f'<span style=\"background-color:rgba(255,215,0,0.3);\"> {sent} </span>'\n",
    "    display(HTML(' '.join([elem for elem in final])))"
   ]
  },
  {
   "cell_type": "code",
   "execution_count": 14,
   "metadata": {},
   "outputs": [
    {
     "data": {
      "text/plain": [
       "'\\nGłównym bohaterem jest Gabriel Laymann, nowicjusz klasztoru dominikanów w Mainz. Akcja toczy się w roku 1602 roku gdzie wraz z resztą braci bierze udział w polowaniu na czarownice. Jednak niespodziewane spotkanie swojej przyrodniej siostry Anny Held, osądzanej o wykonywanie czarów, powoduje że Laymann odrzuca regułę klasztoru. Podstępnie zakrada się do biblioteki gdzie studiuje zakazane księgi. Zostaje przyłapany przez swojego nauczyciela brata Jakoba i uwięziony w lochu.\\nGłówny bohater spotyka tam starszego człowieka Lugaida Vandroiy, który przedstawia mu się jako druid (Reach Out For The Light). Spotkany człowiek opowiada Gabrielowi o innym zagrożonym wymiarze – Avantasii. W zamian za pomoc w uratowaniu Avantasii druid obiecuje uratowanie Anny. Razem udaje im się uciec z lochów (Breaking Away) po czym Vandroiy zabiera Gabriela do kamieniołomu, gdzie ukryty jest portal łączący oba światy. Vandroiy używa go by przenieść Gabriela do równoległego świata.\\nW tym czasie biskup Mainz Johann Adam von Bicken, brat Jakob oraz rządca Falk von Kronberg są w drodze do Rzymu gdzie zamierzają spotkać się z papieżem Clemensem VIII (Glory of Rome). Niosą ze sobą także księgę odkrytą przez Gabriela. Wedle starożytnego zapisu wynika że księga jest ostatnią siódmą częścią pieczęci, która w całości daje właścicielowi absolutną wiedzę gdy tylko dostanie się on do wieży wyznaczającej środek Avantasii.\\nGdy Gabriel dostaje się do równoległego świata jest powitany przez dwóch jego mieszkańców elfa Elderana oraz krasnoluda Regrina (Inside). Opowiadają mu o toczącej się wojnie przeciwko siłom zła oraz o planach papieża (Sign Of The Cross). Jeżeli papież użyje pieczęci połączenie między Avantasią a światem ludzi zostanie zamknięte, a oba światy dotkną straszliwe kataklizmy. Gabriel przybywa w momencie gdy Clemens VIII rozmawia z tajemniczym głosem dochodzącym z wieży. Zręcznemu Gabrielowi udaje się skraść pieczęć papieżowi po czym zanosi ją do miasta elfów (The Tower). Zdarzenie to kończy pierwszy album.\\nJednak Gabriel nie jest usatysfakcjonowany. Chce dowiedzieć się więcej o świecie Avantasii dlatego Elderane wysyła nowicjusza do drzewa poznania. Tam Gabriel podczas objawienia widzi brata Jakoba który znosił okropny ból w jeziorze ognia (The Final Sacrifice). Elderane opowiada Gabrielowi o złotym kielichu ukrytym w rzymskich katakumbach. Kielich jest więzieniem dla ogromnej ilości torturowanych dusz, artefakt strzeżony jest także przez siejącą postrach bestię. Mimo niepowodzeń delfickich wypraw, Gabriel i Regrin powracają na ziemię by zmierzyć się z bestią. Przyjaciele znajdują kielich i przewracają go co umożliwia ucieczkę duszom. Przebudzona bestia zabija jednak krasnoluda, Gabrielowi udaje się uciec.\\nGabriel wraca do Vandroiya, który czekał na niego. Druid spełnia obietnice, zakrada się do więzienia by uwolnić Annę. Jednak znajduje tam „przemienionego” brata Jakoba który także chce uwolnić Annę. Falk von Kronberg nakrywa ich i każe aresztować. Rozpoczęła się walka w której poległ Vandroiy raniony przez Kronberga, który później zostaje uśmiercony przez brata Jakoba. Anna ucieka by ponownie złączyć się z Gabrielem. Podążają wspólnie nieznaną drogą w przyszłość (Into The Unknown).\\n'"
      ]
     },
     "execution_count": 14,
     "metadata": {},
     "output_type": "execute_result"
    }
   ],
   "source": [
    "text"
   ]
  },
  {
   "cell_type": "code",
   "execution_count": 13,
   "metadata": {},
   "outputs": [
    {
     "data": {
      "text/html": [
       "G ł ó w n y m < s p a n   s t y l e = \" b a c k g r o u n d - c o l o r : r g b a ( 2 5 5 , 2 1 5 , 0 , 0 . 3 ) ; \" >   b o h a t e r e m   < / s p a n > j e s t G a b r i e l L a y m a n n , n o w i c j u s z k l a s z t o r u < s p a n   s t y l e = \" b a c k g r o u n d - c o l o r : r g b a ( 2 5 5 , 2 1 5 , 0 , 0 . 3 ) ; \" >   d o m i n i k a n ó w   < / s p a n > w M a i n z . A k c j a t o c z y s i ę w r o k u 1 6 0 2 r o k u g d z i e w r a z z r e s z t ą b r a c i b i e r z e u d z i a ł w p o l o w a n i u n a c z a r o w n i c e . J e d n a k n i e s p o d z i e w a n e s p o t k a n i e s w o j e j p r z y r o d n i e j s i o s t r y A n n y H e l d , o s ą d z a n e j o w y k o n y w a n i e c z a r ó w , p o w o d u j e ż e L a y m a n n o d r z u c a r e g u ł ę k l a s z t o r u . P o d s t ę p n i e z a k r a d a s i ę d o b i b l i o t e k i g d z i e s t u d i u j e z a k a z a n e k s i ę g i . Z o s t a j e p r z y ł a p a n y p r z e z s w o j e g o n a u c z y c i e l a b r a t a J a k o b a i u w i ę z i o n y w l o c h u . G ł ó w n y b o h a t e r s p o t y k a t a m s t a r s z e g o c z ł o w i e k a L u g a i d a V a n d r o i y , k t ó r y p r z e d s t a w i a m u s i ę j a k o d r u i d ( R e a c h O u t F o r T h e L i g h t ) . S p o t k a n y c z ł o w i e k o p o w i a d a G a b r i e l o w i o i n n y m z a g r o ż o n y m w y m i a r z e – A v a n t a s i i . W z a m i a n z a p o m o c w u r a t o w a n i u A v a n t a s i i d r u i d o b i e c u j e u r a t o w a n i e A n n y . R a z e m u d a j e i m s i ę < s p a n   s t y l e = \" b a c k g r o u n d - c o l o r : r g b a ( 2 5 5 , 2 1 5 , 0 , 0 . 3 ) ; \" >   u c i e c   < / s p a n > z l o c h ó w ( B r e a k i n g A w a y ) p o c z y m V a n d r o i y z a b i e r a G a b r i e l a d o k a m i e n i o ł o m u , g d z i e u k r y t y j e s t p o r t a l ł ą c z ą c y o b a ś w i a t y . V a n d r o i y u ż y w a g o b y p r z e n i e ś ć G a b r i e l a d o r ó w n o l e g ł e g o ś w i a t a . W t y m c z a s i e b i s k u p M a i n z J o h a n n A d a m v o n B i c k e n , b r a t J a k o b o r a z r z ą d c a F a l k v o n K r o n b e r g s ą w d r o d z e d o R z y m u g d z i e z a m i e r z a j ą s p o t k a ć s i ę z p a p i e ż e m C l e m e n s e m V I I I ( G l o r y o f R o m e ) . N i o s ą z e s o b ą t a k ż e k s i ę g ę o d k r y t ą p r z e z G a b r i e l a . W e d l e s t a r o ż y t n e g o < s p a n   s t y l e = \" b a c k g r o u n d - c o l o r : r g b a ( 2 5 5 , 2 1 5 , 0 , 0 . 3 ) ; \" >   z a p i s u   < / s p a n > w y n i k a ż e k s i ę g a j e s t o s t a t n i ą s i ó d m ą c z ę ś c i ą p i e c z ę c i , k t ó r a w c a ł o ś c i d a j e w ł a ś c i c i e l o w i a b s o l u t n ą w i e d z ę g d y t y l k o d o s t a n i e s i ę o n d o w i e ż y w y z n a c z a j ą c e j ś r o d e k A v a n t a s i i . G d y G a b r i e l d o s t a j e s i ę d o r ó w n o l e g ł e g o ś w i a t a j e s t p o w i t a n y p r z e z d w ó c h j e g o m i e s z k a ń c ó w e l f a E l d e r a n a o r a z < s p a n   s t y l e = \" b a c k g r o u n d - c o l o r : r g b a ( 2 5 5 , 2 1 5 , 0 , 0 . 3 ) ; \" >   k r a s n o l u d a   < / s p a n > R e g r i n a ( I n s i d e ) . O p o w i a d a j ą m u o t o c z ą c e j s i ę w o j n i e p r z e c i w k o s i ł o m z ł a o r a z o p l a n a c h p a p i e ż a ( S i g n O f T h e C r o s s ) . J e ż e l i p a p i e ż u ż y j e p i e c z ę c i p o ł ą c z e n i e m i ę d z y A v a n t a s i ą a ś w i a t e m l u d z i z o s t a n i e z a m k n i ę t e , a o b a ś w i a t y d o t k n ą s t r a s z l i w e k a t a k l i z m y . G a b r i e l p r z y b y w a w m o m e n c i e g d y C l e m e n s V I I I < s p a n   s t y l e = \" b a c k g r o u n d - c o l o r : r g b a ( 2 5 5 , 2 1 5 , 0 , 0 . 3 ) ; \" >   r o z m a w i a   < / s p a n > z t a j e m n i c z y m g ł o s e m d o c h o d z ą c y m z w i e ż y . Z r ę c z n e m u G a b r i e l o w i u d a j e s i ę s k r a ś ć p i e c z ę ć p a p i e ż o w i p o c z y m z a n o s i j ą d o m i a s t a e l f ó w ( T h e T o w e r ) . Z d a r z e n i e t o k o ń c z y p i e r w s z y a l b u m . J e d n a k G a b r i e l n i e j e s t u s a t y s f a k c j o n o w a n y . C h c e d o w i e d z i e ć s i ę w i ę c e j o ś w i e c i e A v a n t a s i i d l a t e g o E l d e r a n e w y s y ł a n o w i c j u s z a d o d r z e w a p o z n a n i a . T a m G a b r i e l p o d c z a s o b j a w i e n i a w i d z i b r a t a J a k o b a k t ó r y z n o s i ł o k r o p n y b ó l w j e z i o r z e o g n i a ( T h e F i n a l S a c r i f i c e ) . E l d e r a n e o p o w i a d a G a b r i e l o w i o z ł o t y m k i e l i c h u u k r y t y m w r z y m s k i c h k a t a k u m b a c h . K i e l i c h j e s t w i ę z i e n i e m d l a o g r o m n e j i l o ś c i t o r t u r o w a n y c h d u s z , a r t e f a k t s t r z e ż o n y j e s t t a k ż e p r z e z s i e j ą c ą p o s t r a c h b e s t i ę . M i m o n i e p o w o d z e ń d e l f i c k i c h w y p r a w , G a b r i e l i R e g r i n p o w r a c a j ą n a z i e m i ę b y z m i e r z y ć s i ę z b e s t i ą . P r z y j a c i e l e z n a j d u j ą k i e l i c h i p r z e w r a c a j ą g o c o u m o ż l i w i a u c i e c z k ę d u s z o m . P r z e b u d z o n a b e s t i a z a b i j a j e d n a k k r a s n o l u d a , G a b r i e l o w i u d a j e s i ę u c i e c . G a b r i e l w r a c a d o V a n d r o i y a , k t ó r y c z e k a ł n a n i e g o . D r u i d s p e ł n i a o b i e t n i c e , z a k r a d a s i ę d o w i ę z i e n i a b y u w o l n i ć A n n ę . J e d n a k z n a j d u j e t a m „ p r z e m i e n i o n e g o ” b r a t a J a k o b a k t ó r y t a k ż e c h c e u w o l n i ć A n n ę . F a l k v o n K r o n b e r g n a k r y w a i c h i k a ż e a r e s z t o w a ć . R o z p o c z ę ł a s i ę w a l k a w k t ó r e j p o l e g ł V a n d r o i y r a n i o n y p r z e z K r o n b e r g a , k t ó r y p ó ź n i e j z o s t a j e u ś m i e r c o n y p r z e z b r a t a J a k o b a . A n n a u c i e k a b y p o n o w n i e z ł ą c z y ć s i ę z G a b r i e l e m . P o d ą ż a j ą w s p ó l n i e n i e z n a n ą d r o g ą w p r z y s z ł o ś ć ( I n t o T h e U n k n o w n ) ."
      ],
      "text/plain": [
       "<IPython.core.display.HTML object>"
      ]
     },
     "metadata": {},
     "output_type": "display_data"
    }
   ],
   "source": [
    "display_highlights(text.split(), key)"
   ]
  },
  {
   "cell_type": "code",
   "execution_count": 8,
   "metadata": {},
   "outputs": [
    {
     "data": {
      "text/plain": [
       "['bohaterem',\n",
       " 'dominikanów',\n",
       " 'klasztoru dominikanów',\n",
       " 'spotkanie swojej przyrodniej siostry anny held',\n",
       " 'nauczyciela brata jakoba',\n",
       " 'druid (reach out for the light)',\n",
       " 'druid obiecuje uratowanie za pomoc w zamian za pomoc w uratowaniu za pomoc w zamian za pomoc w uratowaniu za pomoc w zamian za pomoc w uratowaniu za pomoc w zamian za pomoc w',\n",
       " 'biskup mainz',\n",
       " 'zapisu',\n",
       " 'elfa elderana',\n",
       " 'krasnoluda regrina',\n",
       " 'rozmawia',\n",
       " 'miasta elfów',\n",
       " 'pierwszy album',\n",
       " 'bestia zabija',\n",
       " 'krasnoluda',\n",
       " 'uciec',\n",
       " 'gabriel wraca do vandroiya',\n",
       " 'brata jakoba',\n",
       " 'przemienionego brata znajduje tam „przemienionego” brata',\n",
       " 'falk von kronberg']"
      ]
     },
     "execution_count": 8,
     "metadata": {},
     "output_type": "execute_result"
    }
   ],
   "source": [
    "key"
   ]
  },
  {
   "cell_type": "code",
   "execution_count": null,
   "metadata": {},
   "outputs": [],
   "source": []
  }
 ],
 "metadata": {
  "interpreter": {
   "hash": "f5dc7221bd57f443bd21d92d893b3958d3081f94c6c945d5f95188cb4cde5b4f"
  },
  "kernelspec": {
   "display_name": "Python 3.7.5 64-bit",
   "language": "python",
   "name": "python3"
  },
  "language_info": {
   "codemirror_mode": {
    "name": "ipython",
    "version": 3
   },
   "file_extension": ".py",
   "mimetype": "text/x-python",
   "name": "python",
   "nbconvert_exporter": "python",
   "pygments_lexer": "ipython3",
   "version": "3.7.5"
  },
  "orig_nbformat": 4
 },
 "nbformat": 4,
 "nbformat_minor": 2
}
