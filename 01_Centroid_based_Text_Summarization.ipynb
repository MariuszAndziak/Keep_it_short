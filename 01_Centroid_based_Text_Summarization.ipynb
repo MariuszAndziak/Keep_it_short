{
 "cells": [
  {
   "cell_type": "markdown",
   "metadata": {},
   "source": [
    "Centroids - most relevant tokens; tokens that contain the same meaning\n",
    "1. Sum up vector representation of words that are part of a centroid => get embedding representation of the centroid.\n",
    "2. Every sentence is scored (cosine similarity) based on how similar they are to the centroid embedding.\n",
    "3. Select sentences based on their score until a certain number of words (hyperparameter) is reached\n",
    "4. Avoid redundancy - if a chosen sentence is too similar to the ones in the already produced summary, don't add it (cosine similarity + predefined threshold)"
   ]
  },
  {
   "cell_type": "markdown",
   "metadata": {},
   "source": [
    "https://aclanthology.org/W17-1003.pdf\n",
    "\n",
    "https://arxiv.org/pdf/1707.02268v3.pdf"
   ]
  }
 ],
 "metadata": {
  "language_info": {
   "name": "python"
  },
  "orig_nbformat": 4
 },
 "nbformat": 4,
 "nbformat_minor": 2
}
