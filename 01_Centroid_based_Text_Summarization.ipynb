{
 "cells": [
  {
   "cell_type": "markdown",
   "metadata": {},
   "source": [
    "### Modules ###"
   ]
  },
  {
   "cell_type": "code",
   "execution_count": 1,
   "metadata": {},
   "outputs": [],
   "source": [
    "import numpy as np\n",
    "import helper as h\n",
    "\n",
    "import operator\n",
    "from functools import reduce\n",
    "\n",
    "from sklearn.feature_extraction.text import CountVectorizer, TfidfTransformer\n",
    "from sklearn.pipeline import Pipeline\n",
    "\n",
    "from nltk.tokenize import word_tokenize\n",
    "from gensim.models import Word2Vec\n",
    "\n",
    "from IPython.core.display import display, HTML"
   ]
  },
  {
   "cell_type": "markdown",
   "metadata": {},
   "source": [
    "### Example text ###"
   ]
  },
  {
   "cell_type": "code",
   "execution_count": 2,
   "metadata": {},
   "outputs": [],
   "source": [
    "text = '''\n",
    "Głównym bohaterem jest Gabriel Laymann, nowicjusz klasztoru dominikanów w Mainz. Akcja toczy się w roku 1602 roku gdzie wraz z resztą braci bierze udział w polowaniu na czarownice. Jednak niespodziewane spotkanie swojej przyrodniej siostry Anny Held, osądzanej o wykonywanie czarów, powoduje że Laymann odrzuca regułę klasztoru. Podstępnie zakrada się do biblioteki gdzie studiuje zakazane księgi. Zostaje przyłapany przez swojego nauczyciela brata Jakoba i uwięziony w lochu.\n",
    "Główny bohater spotyka tam starszego człowieka Lugaida Vandroiy, który przedstawia mu się jako druid (Reach Out For The Light). Spotkany człowiek opowiada Gabrielowi o innym zagrożonym wymiarze – Avantasii. W zamian za pomoc w uratowaniu Avantasii druid obiecuje uratowanie Anny. Razem udaje im się uciec z lochów (Breaking Away) po czym Vandroiy zabiera Gabriela do kamieniołomu, gdzie ukryty jest portal łączący oba światy. Vandroiy używa go by przenieść Gabriela do równoległego świata.\n",
    "W tym czasie biskup Mainz Johann Adam von Bicken, brat Jakob oraz rządca Falk von Kronberg są w drodze do Rzymu gdzie zamierzają spotkać się z papieżem Clemensem VIII (Glory of Rome). Niosą ze sobą także księgę odkrytą przez Gabriela. Wedle starożytnego zapisu wynika że księga jest ostatnią siódmą częścią pieczęci, która w całości daje właścicielowi absolutną wiedzę gdy tylko dostanie się on do wieży wyznaczającej środek Avantasii.\n",
    "Gdy Gabriel dostaje się do równoległego świata jest powitany przez dwóch jego mieszkańców elfa Elderana oraz krasnoluda Regrina (Inside). Opowiadają mu o toczącej się wojnie przeciwko siłom zła oraz o planach papieża (Sign Of The Cross). Jeżeli papież użyje pieczęci połączenie między Avantasią a światem ludzi zostanie zamknięte, a oba światy dotkną straszliwe kataklizmy. Gabriel przybywa w momencie gdy Clemens VIII rozmawia z tajemniczym głosem dochodzącym z wieży. Zręcznemu Gabrielowi udaje się skraść pieczęć papieżowi po czym zanosi ją do miasta elfów (The Tower). Zdarzenie to kończy pierwszy album.\n",
    "Jednak Gabriel nie jest usatysfakcjonowany. Chce dowiedzieć się więcej o świecie Avantasii dlatego Elderane wysyła nowicjusza do drzewa poznania. Tam Gabriel podczas objawienia widzi brata Jakoba który znosił okropny ból w jeziorze ognia (The Final Sacrifice). Elderane opowiada Gabrielowi o złotym kielichu ukrytym w rzymskich katakumbach. Kielich jest więzieniem dla ogromnej ilości torturowanych dusz, artefakt strzeżony jest także przez siejącą postrach bestię. Mimo niepowodzeń delfickich wypraw, Gabriel i Regrin powracają na ziemię by zmierzyć się z bestią. Przyjaciele znajdują kielich i przewracają go co umożliwia ucieczkę duszom. Przebudzona bestia zabija jednak krasnoluda, Gabrielowi udaje się uciec.\n",
    "Gabriel wraca do Vandroiya, który czekał na niego. Druid spełnia obietnice, zakrada się do więzienia by uwolnić Annę. Jednak znajduje tam „przemienionego” brata Jakoba który także chce uwolnić Annę. Falk von Kronberg nakrywa ich i każe aresztować. Rozpoczęła się walka w której poległ Vandroiy raniony przez Kronberga, który później zostaje uśmiercony przez brata Jakoba. Anna ucieka by ponownie złączyć się z Gabrielem. Podążają wspólnie nieznaną drogą w przyszłość (Into The Unknown).\n",
    "'''"
   ]
  },
  {
   "cell_type": "markdown",
   "metadata": {},
   "source": [
    "Source: https://pl.wikipedia.org/wiki/Avantasia"
   ]
  },
  {
   "cell_type": "markdown",
   "metadata": {},
   "source": [
    "### Split text in to sentences ###"
   ]
  },
  {
   "cell_type": "markdown",
   "metadata": {},
   "source": [
    "Make a list of raw sentences as well as preprocessed sentences"
   ]
  },
  {
   "cell_type": "code",
   "execution_count": 3,
   "metadata": {},
   "outputs": [],
   "source": [
    "sentences, raw_sentences = h.prepare_text(text)"
   ]
  },
  {
   "cell_type": "code",
   "execution_count": 4,
   "metadata": {},
   "outputs": [
    {
     "data": {
      "text/plain": [
       "['głównym bohaterem gabriel laymann nowicjusz klasztoru dominikanów mainz',\n",
       " 'akcja toczy wraz resztą braci bierze udział polowaniu czarownice',\n",
       " 'niespodziewane spotkanie swojej przyrodniej siostry anny held osądzanej wykonywanie czarów powoduje laymann odrzuca regułę klasztoru',\n",
       " 'podstępnie zakrada biblioteki studiuje zakazane księgi',\n",
       " 'zostaje przyłapany swojego nauczyciela brata jakoba uwięziony lochu',\n",
       " 'główny bohater spotyka starszego człowieka lugaida vandroiy przedstawia druid reach out for the light',\n",
       " 'spotkany człowiek opowiada gabrielowi innym zagrożonym wymiarze – avantasii',\n",
       " 'zamian pomoc uratowaniu avantasii druid obiecuje uratowanie anny',\n",
       " 'razem udaje uciec lochów breaking away czym vandroiy zabiera gabriela kamieniołomu ukryty portal łączący oba światy',\n",
       " 'vandroiy używa przenieść gabriela równoległego świata',\n",
       " 'czasie biskup mainz johann adam von bicken brat jakob rządca falk von kronberg drodze rzymu zamierzają spotkać papieżem clemensem glory of rome',\n",
       " 'niosą księgę odkrytą gabriela',\n",
       " 'wedle starożytnego zapisu wynika księga ostatnią siódmą częścią pieczęci całości daje właścicielowi absolutną wiedzę dostanie wieży wyznaczającej środek avantasii',\n",
       " 'gabriel dostaje równoległego świata powitany dwóch mieszkańców elfa elderana krasnoluda regrina inside',\n",
       " 'opowiadają toczącej wojnie przeciwko siłom zła planach papieża sign of the cross',\n",
       " 'papież użyje pieczęci połączenie avantasią światem ludzi zostanie zamknięte oba światy dotkną straszliwe kataklizmy',\n",
       " 'gabriel przybywa momencie clemens rozmawia tajemniczym głosem dochodzącym wieży',\n",
       " 'zręcznemu gabrielowi udaje skraść pieczęć papieżowi czym zanosi miasta elfów the tower',\n",
       " 'zdarzenie kończy pierwszy album',\n",
       " 'gabriel usatysfakcjonowany',\n",
       " 'dowiedzieć świecie avantasii elderane wysyła nowicjusza drzewa poznania',\n",
       " 'gabriel objawienia widzi brata jakoba znosił okropny ból jeziorze ognia the final sacrifice',\n",
       " 'elderane opowiada gabrielowi złotym kielichu ukrytym rzymskich katakumbach',\n",
       " 'kielich więzieniem ogromnej ilości torturowanych dusz artefakt strzeżony siejącą postrach bestię',\n",
       " 'niepowodzeń delfickich wypraw gabriel regrin powracają ziemię zmierzyć bestią',\n",
       " 'przyjaciele znajdują kielich przewracają umożliwia ucieczkę duszom',\n",
       " 'przebudzona bestia zabija krasnoluda gabrielowi udaje uciec',\n",
       " 'gabriel wraca vandroiya czekał niego',\n",
       " 'druid spełnia obietnice zakrada więzienia uwolnić annę',\n",
       " 'znajduje „przemienionego” brata jakoba uwolnić annę',\n",
       " 'falk von kronberg nakrywa każe aresztować',\n",
       " 'rozpoczęła walka poległ vandroiy raniony kronberga później zostaje uśmiercony brata jakoba',\n",
       " 'anna ucieka ponownie złączyć gabrielem',\n",
       " 'podążają wspólnie nieznaną drogą przyszłość into the unknown']"
      ]
     },
     "execution_count": 4,
     "metadata": {},
     "output_type": "execute_result"
    }
   ],
   "source": [
    "sentences"
   ]
  },
  {
   "cell_type": "markdown",
   "metadata": {},
   "source": [
    "### TF-IDF pipeline ###"
   ]
  },
  {
   "cell_type": "markdown",
   "metadata": {},
   "source": [
    "Prepare TF-IDF pipeline for centroid building"
   ]
  },
  {
   "cell_type": "code",
   "execution_count": 5,
   "metadata": {},
   "outputs": [],
   "source": [
    "tfidf = Pipeline([\n",
    "    ('count', CountVectorizer()),\n",
    "    ('tfidf', TfidfTransformer(norm = None, sublinear_tf = False, smooth_idf = False))\n",
    "])"
   ]
  },
  {
   "cell_type": "markdown",
   "metadata": {},
   "source": [
    "In the begging `tfidf.fit_transform(sentences).toarray()` produces a list of shape (n,m) where: \n",
    "\n",
    "n - number of sentences, \n",
    "\n",
    "m - number of unique tokens across all sentences (vocabulary length)"
   ]
  },
  {
   "cell_type": "code",
   "execution_count": 6,
   "metadata": {},
   "outputs": [
    {
     "data": {
      "text/plain": [
       "(34, 263)"
      ]
     },
     "execution_count": 6,
     "metadata": {},
     "output_type": "execute_result"
    }
   ],
   "source": [
    "tfidf.fit_transform(sentences).toarray().shape"
   ]
  },
  {
   "cell_type": "code",
   "execution_count": 7,
   "metadata": {},
   "outputs": [
    {
     "data": {
      "text/plain": [
       "array([[0.        , 0.        , 0.        , ..., 0.        , 0.        ,\n",
       "        0.        ],\n",
       "       [0.        , 0.        , 4.52636052, ..., 0.        , 0.        ,\n",
       "        0.        ],\n",
       "       [0.        , 0.        , 0.        , ..., 0.        , 0.        ,\n",
       "        0.        ],\n",
       "       ...,\n",
       "       [0.        , 0.        , 0.        , ..., 0.        , 0.        ,\n",
       "        0.        ],\n",
       "       [0.        , 0.        , 0.        , ..., 0.        , 0.        ,\n",
       "        0.        ],\n",
       "       [0.        , 0.        , 0.        , ..., 0.        , 0.        ,\n",
       "        0.        ]])"
      ]
     },
     "execution_count": 7,
     "metadata": {},
     "output_type": "execute_result"
    }
   ],
   "source": [
    "tfidf.fit_transform(sentences).toarray()"
   ]
  },
  {
   "cell_type": "markdown",
   "metadata": {},
   "source": [
    "### Make centroids ###"
   ]
  },
  {
   "cell_type": "markdown",
   "metadata": {},
   "source": [
    "Sum up the numbers by column and divide it by the maximum number to obtaint values from 0 to 1 (probability)"
   ]
  },
  {
   "cell_type": "code",
   "execution_count": 8,
   "metadata": {},
   "outputs": [],
   "source": [
    "centroid_vector_all = tfidf.fit_transform(sentences).toarray().sum(axis = 0)\n",
    "centroid_vector_all = np.divide(centroid_vector_all, centroid_vector_all.max())"
   ]
  },
  {
   "cell_type": "code",
   "execution_count": 9,
   "metadata": {},
   "outputs": [],
   "source": [
    "RELEVANT_VECTOR_CUTOFF_RATIO = 0.3 # cutt-of (threshold probability)"
   ]
  },
  {
   "cell_type": "markdown",
   "metadata": {},
   "source": [
    "Return indices of tokens where the probability is above threshold"
   ]
  },
  {
   "cell_type": "code",
   "execution_count": 10,
   "metadata": {},
   "outputs": [],
   "source": [
    "relevant_vector_indices = np.where(centroid_vector_all > RELEVANT_VECTOR_CUTOFF_RATIO)[0]"
   ]
  },
  {
   "cell_type": "markdown",
   "metadata": {},
   "source": [
    "Make centroids (return tokens based on indices)"
   ]
  },
  {
   "cell_type": "code",
   "execution_count": 11,
   "metadata": {},
   "outputs": [],
   "source": [
    "features = tfidf['count'].get_feature_names_out()\n",
    "word_list = list(np.array(features)[relevant_vector_indices])"
   ]
  },
  {
   "cell_type": "code",
   "execution_count": 10,
   "metadata": {},
   "outputs": [
    {
     "data": {
      "text/plain": [
       "['anny',\n",
       " 'annę',\n",
       " 'avantasii',\n",
       " 'brata',\n",
       " 'czym',\n",
       " 'druid',\n",
       " 'elderane',\n",
       " 'falk',\n",
       " 'gabriel',\n",
       " 'gabriela',\n",
       " 'gabrielowi',\n",
       " 'jakoba',\n",
       " 'kielich',\n",
       " 'klasztoru',\n",
       " 'krasnoluda',\n",
       " 'kronberg',\n",
       " 'laymann',\n",
       " 'mainz',\n",
       " 'oba',\n",
       " 'of',\n",
       " 'opowiada',\n",
       " 'pieczęci',\n",
       " 'równoległego',\n",
       " 'the',\n",
       " 'uciec',\n",
       " 'udaje',\n",
       " 'uwolnić',\n",
       " 'vandroiy',\n",
       " 'von',\n",
       " 'wieży',\n",
       " 'zakrada',\n",
       " 'zostaje',\n",
       " 'świata',\n",
       " 'światy']"
      ]
     },
     "execution_count": 10,
     "metadata": {},
     "output_type": "execute_result"
    }
   ],
   "source": [
    "word_list # centroids"
   ]
  },
  {
   "cell_type": "markdown",
   "metadata": {},
   "source": [
    "### A lookup model ###"
   ]
  },
  {
   "cell_type": "markdown",
   "metadata": {},
   "source": [
    "A lokkup model in this case is a Word2Vec dictionary with predefined size and window."
   ]
  },
  {
   "cell_type": "code",
   "execution_count": 12,
   "metadata": {},
   "outputs": [],
   "source": [
    "# list of all tokens across all sentences\n",
    "all_words = [word_tokenize(sent) for sent in sentences]\n",
    "all_words_flattened = reduce(operator.concat, all_words)\n",
    "\n",
    "# standard (empty) Word2Vec model\n",
    "model = Word2Vec(all_words, window=2, size=100, sg = 1, min_count=1)\n",
    "\n",
    "# populate Word2Vec dictionary\n",
    "model_lookup = dict()\n",
    "for word in all_words_flattened:\n",
    "    model_lookup[word] = model.wv[word]"
   ]
  },
  {
   "cell_type": "markdown",
   "metadata": {},
   "source": [
    "### Centroids vector representation ###"
   ]
  },
  {
   "cell_type": "code",
   "execution_count": 39,
   "metadata": {},
   "outputs": [],
   "source": [
    "def make_vector_representation(words: list, model_lookup: dict, model: Word2Vec) -> np.array:\n",
    "    '''\n",
    "    Make a vector representation of given list of words\n",
    "\n",
    "    Args:\n",
    "        words: list of words (for example all words across texts or list of centroids)\n",
    "        model_lookup: Word2Vec dictionary\n",
    "        model: Word2Vec predifined model\n",
    "    \n",
    "    Returns:\n",
    "        Vector representation of given list of words\n",
    "    '''\n",
    "\n",
    "    # zeroes vector with length equal to model size (100) \n",
    "    representation = np.zeros(model.vector_size, dtype='float32')\n",
    "\n",
    "    # get every word embedding (vector of size 100) and add it to the final\n",
    "    # representation\n",
    "    for word in words:\n",
    "        if word in model_lookup.keys():\n",
    "            representation += model_lookup[word]\n",
    "    \n",
    "    representation = np.divide(representation, len(words)) #normalization\n",
    "\n",
    "    return representation"
   ]
  },
  {
   "cell_type": "code",
   "execution_count": 40,
   "metadata": {},
   "outputs": [],
   "source": [
    "# 100 element vector representing all centroids\n",
    "centroid_vector = make_vector_representation(word_list, model_lookup, model)"
   ]
  },
  {
   "cell_type": "code",
   "execution_count": 70,
   "metadata": {},
   "outputs": [],
   "source": [
    "# 100 element vector representing all tokens in texts\n",
    "# representation = make_vector_representation(all_words_flattened, model_lookup, model)"
   ]
  },
  {
   "cell_type": "code",
   "execution_count": 41,
   "metadata": {},
   "outputs": [
    {
     "data": {
      "text/plain": [
       "array([ 9.57985874e-04, -1.92794803e-04,  4.09182278e-04, -4.59867530e-04,\n",
       "       -1.65429054e-04,  1.55225847e-04, -5.59698266e-04,  1.31863955e-04,\n",
       "        5.87099639e-04,  2.84325157e-04, -1.53901801e-05,  1.39881740e-04,\n",
       "        1.04449422e-03, -6.93205569e-04,  3.84312589e-05,  6.78206387e-04,\n",
       "        5.45053976e-04, -3.65274784e-04, -2.63083464e-04,  3.06001690e-04,\n",
       "        1.68798797e-05, -8.78469378e-04, -1.53463930e-04, -6.61979311e-06,\n",
       "       -5.79511514e-04, -9.18536971e-04, -3.70013498e-04, -6.93439739e-04,\n",
       "        1.36553484e-03,  1.60761381e-04, -6.70047593e-05, -6.53513649e-04,\n",
       "        1.03211694e-03, -5.27804485e-04,  7.29709864e-04, -2.82590248e-04,\n",
       "       -4.23017860e-04, -4.83435520e-04, -6.82161364e-04,  1.87245198e-04,\n",
       "        1.64330937e-04,  7.35306548e-06, -1.05241186e-03, -1.27046733e-04,\n",
       "       -3.32540047e-04, -4.47806524e-05,  1.98121837e-04,  9.41256410e-04,\n",
       "       -4.95949644e-04, -1.28033382e-04, -3.23028245e-04, -5.36367763e-04,\n",
       "       -1.45976106e-03, -3.22425651e-04, -7.91024533e-04, -1.05229345e-04,\n",
       "        6.06353977e-04,  2.48595577e-04, -3.11165146e-04, -7.72258616e-04,\n",
       "        5.06454089e-04, -3.87425214e-04, -3.57570680e-04, -5.82366338e-05,\n",
       "       -1.91625659e-04, -3.61134371e-05,  9.30281894e-05, -3.43317777e-04,\n",
       "        4.69254766e-04,  9.86402392e-06, -1.10580171e-04, -8.13309627e-04,\n",
       "        7.84798816e-04, -9.19029626e-05,  5.28509263e-04, -6.76640193e-04,\n",
       "       -4.64990415e-04,  1.89309678e-04, -5.81333938e-04,  8.10302081e-05,\n",
       "        3.03939363e-04,  8.34784587e-05, -8.49661243e-04,  8.28037271e-04,\n",
       "        2.85662445e-05,  1.26166182e-04, -1.17581149e-04,  2.77156596e-05,\n",
       "       -5.74753387e-04, -1.97450237e-04, -9.41055361e-04, -2.99554842e-04,\n",
       "       -4.84028948e-04, -1.89198225e-04, -2.70522578e-04, -6.85954932e-04,\n",
       "       -1.12600764e-03,  1.28267668e-04, -5.80209075e-04, -5.01007540e-04],\n",
       "      dtype=float32)"
      ]
     },
     "execution_count": 41,
     "metadata": {},
     "output_type": "execute_result"
    }
   ],
   "source": [
    "centroid_vector"
   ]
  },
  {
   "cell_type": "markdown",
   "metadata": {},
   "source": [
    "### Sentence similarity ###"
   ]
  },
  {
   "cell_type": "markdown",
   "metadata": {},
   "source": [
    "Make vector respresentation of every sentence `(sentence_vector)` and calculate their similarity score "
   ]
  },
  {
   "cell_type": "code",
   "execution_count": 42,
   "metadata": {},
   "outputs": [],
   "source": [
    "sent_scores = dict() # empty dictionary for sentence representation storage\n",
    "for n, sentence in enumerate(sentences):\n",
    "    words = sentence.split()\n",
    "\n",
    "    # vector representation of a particular sentence\n",
    "    sentence_vector = make_vector_representation(words, model_lookup, model)\n",
    "\n",
    "    # how similar a particular sentence is compared to centroids\n",
    "    score = h.cos_sim(sentence_vector, centroid_vector)\n",
    "    sent_scores[n] = [score, sentences[n], sentence_vector, raw_sentences[n]]\n",
    "\n",
    "# sorted sentenced based on their similarity with the centroids\n",
    "sent_scores_sort = sorted(sent_scores.items(), key = lambda item: item[1][0], reverse=True)"
   ]
  },
  {
   "cell_type": "markdown",
   "metadata": {},
   "source": [
    "### Redundancy handling ###"
   ]
  },
  {
   "cell_type": "code",
   "execution_count": 73,
   "metadata": {},
   "outputs": [],
   "source": [
    "# don't return sentences that are similar to each other more than\n",
    "COS_SIM_CUT_OFF = 0.75"
   ]
  },
  {
   "cell_type": "code",
   "execution_count": 74,
   "metadata": {},
   "outputs": [],
   "source": [
    "for s in sent_scores_sort: \n",
    "    count = 0\n",
    "    sentences_summary = []\n",
    "    for s in sent_scores_sort:\n",
    "        # if sentences in final summary have more then 100 tokens break\n",
    "        if count > 100: \n",
    "            break\n",
    "        # if sentences in final summary have less then 100 tokens set flag\n",
    "        include_flag = True\n",
    "\n",
    "        # check sim score of every sentence (s) with every other sentence (ps)\n",
    "        for ps in sentences_summary:\n",
    "            sim = h.cos_sim(s[1][2], ps[1][2])\n",
    "\n",
    "            # if similarity if above threshold don't include the sentence\n",
    "            if sim > COS_SIM_CUT_OFF:\n",
    "                include_flag = False\n",
    "\n",
    "        # include only sentences with include_flag = True\n",
    "        if include_flag:\n",
    "            sentences_summary.append(s) # add sentence to final summary\n",
    "            count += len(s[1][1].split()) # add sentence length to counter\n",
    "    \n",
    "    sentences_summary = sorted(sentences_summary, key=lambda el: el[0], reverse=False)"
   ]
  },
  {
   "cell_type": "markdown",
   "metadata": {},
   "source": [
    "Extract only sentences from sentences_summary"
   ]
  },
  {
   "cell_type": "code",
   "execution_count": 75,
   "metadata": {},
   "outputs": [
    {
     "data": {
      "text/plain": [
       "['\\nGłównym bohaterem jest Gabriel Laymann, nowicjusz klasztoru dominikanów w Mainz',\n",
       " 'Zostaje przyłapany przez swojego nauczyciela brata Jakoba i uwięziony w lochu',\n",
       " 'W zamian za pomoc w uratowaniu Avantasii druid obiecuje uratowanie Anny',\n",
       " 'Razem udaje im się uciec z lochów (Breaking Away) po czym Vandroiy zabiera Gabriela do kamieniołomu, gdzie ukryty jest portal łączący oba światy',\n",
       " 'Vandroiy używa go by przenieść Gabriela do równoległego świata',\n",
       " 'Gdy Gabriel dostaje się do równoległego świata jest powitany przez dwóch jego mieszkańców elfa Elderana oraz krasnoluda Regrina (Inside)',\n",
       " 'Zręcznemu Gabrielowi udaje się skraść pieczęć papieżowi po czym zanosi ją do miasta elfów (The Tower)',\n",
       " 'Tam Gabriel podczas objawienia widzi brata Jakoba który znosił okropny ból w jeziorze ognia (The Final Sacrifice)',\n",
       " 'Jednak znajduje tam „przemienionego” brata Jakoba który także chce uwolnić Annę',\n",
       " 'Falk von Kronberg nakrywa ich i każe aresztować',\n",
       " 'Rozpoczęła się walka w której poległ Vandroiy raniony przez Kronberga, który później zostaje uśmiercony przez brata Jakoba']"
      ]
     },
     "execution_count": 75,
     "metadata": {},
     "output_type": "execute_result"
    }
   ],
   "source": [
    "summarized_sents = []\n",
    "for n, sent in enumerate(sentences_summary):\n",
    "    summarized_sents.append(sentences_summary[n][1][3])\n",
    "\n",
    "summarized_sents"
   ]
  },
  {
   "cell_type": "code",
   "execution_count": 76,
   "metadata": {},
   "outputs": [],
   "source": [
    "# def display_highlights(raw_sentences, summarized_sents):\n",
    "#     final = []\n",
    "#     for sent in raw_sentences:\n",
    "#         if sent not in summarized_sents:\n",
    "#             final += sent\n",
    "#         else:\n",
    "#             final += f'<span style=\"background-color:rgba(255,215,0,0.3);\"> {sent} </span>'\n",
    "#     display(HTML(''.join([elem for elem in final])))"
   ]
  },
  {
   "cell_type": "markdown",
   "metadata": {},
   "source": [
    "### Visualize final result ###"
   ]
  },
  {
   "cell_type": "code",
   "execution_count": 77,
   "metadata": {},
   "outputs": [
    {
     "data": {
      "text/html": [
       "<span style=\"background-color:rgba(255,215,0,0.3);\"> \n",
       "Głównym bohaterem jest Gabriel Laymann, nowicjusz klasztoru dominikanów w Mainz </span>Akcja toczy się w roku 1602 roku gdzie wraz z resztą braci bierze udział w polowaniu na czarowniceJednak niespodziewane spotkanie swojej przyrodniej siostry Anny Held, osądzanej o wykonywanie czarów, powoduje że Laymann odrzuca regułę klasztoruPodstępnie zakrada się do biblioteki gdzie studiuje zakazane księgi<span style=\"background-color:rgba(255,215,0,0.3);\"> Zostaje przyłapany przez swojego nauczyciela brata Jakoba i uwięziony w lochu </span>Główny bohater spotyka tam starszego człowieka Lugaida Vandroiy, który przedstawia mu się jako druid (Reach Out For The Light)Spotkany człowiek opowiada Gabrielowi o innym zagrożonym wymiarze – Avantasii<span style=\"background-color:rgba(255,215,0,0.3);\"> W zamian za pomoc w uratowaniu Avantasii druid obiecuje uratowanie Anny </span><span style=\"background-color:rgba(255,215,0,0.3);\"> Razem udaje im się uciec z lochów (Breaking Away) po czym Vandroiy zabiera Gabriela do kamieniołomu, gdzie ukryty jest portal łączący oba światy </span><span style=\"background-color:rgba(255,215,0,0.3);\"> Vandroiy używa go by przenieść Gabriela do równoległego świata </span>W tym czasie biskup Mainz Johann Adam von Bicken, brat Jakob oraz rządca Falk von Kronberg są w drodze do Rzymu gdzie zamierzają spotkać się z papieżem Clemensem VIII (Glory of Rome)Niosą ze sobą także księgę odkrytą przez GabrielaWedle starożytnego zapisu wynika że księga jest ostatnią siódmą częścią pieczęci, która w całości daje właścicielowi absolutną wiedzę gdy tylko dostanie się on do wieży wyznaczającej środek Avantasii<span style=\"background-color:rgba(255,215,0,0.3);\"> Gdy Gabriel dostaje się do równoległego świata jest powitany przez dwóch jego mieszkańców elfa Elderana oraz krasnoluda Regrina (Inside) </span>Opowiadają mu o toczącej się wojnie przeciwko siłom zła oraz o planach papieża (Sign Of The Cross)Jeżeli papież użyje pieczęci połączenie między Avantasią a światem ludzi zostanie zamknięte, a oba światy dotkną straszliwe kataklizmyGabriel przybywa w momencie gdy Clemens VIII rozmawia z tajemniczym głosem dochodzącym z wieży<span style=\"background-color:rgba(255,215,0,0.3);\"> Zręcznemu Gabrielowi udaje się skraść pieczęć papieżowi po czym zanosi ją do miasta elfów (The Tower) </span>Zdarzenie to kończy pierwszy albumJednak Gabriel nie jest usatysfakcjonowanyChce dowiedzieć się więcej o świecie Avantasii dlatego Elderane wysyła nowicjusza do drzewa poznania<span style=\"background-color:rgba(255,215,0,0.3);\"> Tam Gabriel podczas objawienia widzi brata Jakoba który znosił okropny ból w jeziorze ognia (The Final Sacrifice) </span>Elderane opowiada Gabrielowi o złotym kielichu ukrytym w rzymskich katakumbachKielich jest więzieniem dla ogromnej ilości torturowanych dusz, artefakt strzeżony jest także przez siejącą postrach bestięMimo niepowodzeń delfickich wypraw, Gabriel i Regrin powracają na ziemię by zmierzyć się z bestiąPrzyjaciele znajdują kielich i przewracają go co umożliwia ucieczkę duszomPrzebudzona bestia zabija jednak krasnoluda, Gabrielowi udaje się uciecGabriel wraca do Vandroiya, który czekał na niegoDruid spełnia obietnice, zakrada się do więzienia by uwolnić Annę<span style=\"background-color:rgba(255,215,0,0.3);\"> Jednak znajduje tam „przemienionego” brata Jakoba który także chce uwolnić Annę </span><span style=\"background-color:rgba(255,215,0,0.3);\"> Falk von Kronberg nakrywa ich i każe aresztować </span><span style=\"background-color:rgba(255,215,0,0.3);\"> Rozpoczęła się walka w której poległ Vandroiy raniony przez Kronberga, który później zostaje uśmiercony przez brata Jakoba </span>Anna ucieka by ponownie złączyć się z GabrielemPodążają wspólnie nieznaną drogą w przyszłość (Into The Unknown)"
      ],
      "text/plain": [
       "<IPython.core.display.HTML object>"
      ]
     },
     "metadata": {},
     "output_type": "display_data"
    }
   ],
   "source": [
    "h.display_highlights(raw_sentences, summarized_sents)"
   ]
  },
  {
   "cell_type": "code",
   "execution_count": 23,
   "metadata": {},
   "outputs": [],
   "source": []
  },
  {
   "cell_type": "code",
   "execution_count": null,
   "metadata": {},
   "outputs": [],
   "source": []
  }
 ],
 "metadata": {
  "interpreter": {
   "hash": "f5dc7221bd57f443bd21d92d893b3958d3081f94c6c945d5f95188cb4cde5b4f"
  },
  "kernelspec": {
   "display_name": "Python 3.7.5 64-bit",
   "language": "python",
   "name": "python3"
  },
  "language_info": {
   "codemirror_mode": {
    "name": "ipython",
    "version": 3
   },
   "file_extension": ".py",
   "mimetype": "text/x-python",
   "name": "python",
   "nbconvert_exporter": "python",
   "pygments_lexer": "ipython3",
   "version": "3.7.5"
  },
  "orig_nbformat": 4
 },
 "nbformat": 4,
 "nbformat_minor": 2
}
